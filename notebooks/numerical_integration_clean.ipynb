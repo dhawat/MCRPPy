{
 "cells": [
  {
   "cell_type": "markdown",
   "metadata": {},
   "source": [
    "    1- test function\n",
    "    2- MC tests"
   ]
  },
  {
   "cell_type": "code",
   "execution_count": null,
   "id": "bf09a018",
   "metadata": {},
   "outputs": [],
   "source": [
    "import matplotlib as mpl\n",
    "import matplotlib.pyplot as plt\n",
    "import time\n",
    "import numpy as np\n",
    "\n",
    "# to delete this cell\n",
    "from IPython.display import display, HTML\n",
    "display(HTML(\"<style>.container { width:100% !important; }</style>\"))\n",
    "\n",
    "%load_ext autoreload\n",
    "%autoreload 2\n",
    "\n",
    "%config InlineBackend.figure_format='retina'\n",
    "import os\n",
    "import sys\n",
    "sys.path.insert(0, os.path.abspath('../src/'))\n",
    "\n",
    "import warnings\n",
    "warnings.filterwarnings('ignore')"
   ]
  },
  {
   "cell_type": "code",
   "execution_count": null,
   "id": "1979be83",
   "metadata": {},
   "outputs": [],
   "source": [
    "# make plots look nice\n",
    "plt.ticklabel_format(style='sci', axis='x', scilimits=(0,0))\n",
    "mpl.rcParams['xtick.labelsize'] = 10\n",
    "mpl.rcParams['ytick.labelsize'] = 10\n",
    "plt.rc('axes', labelsize=10)\n",
    "plt.rc('legend', fontsize=8)\n",
    "mpl.rcParams['ps.useafm'] = True\n",
    "mpl.rcParams['pdf.use14corefonts'] = True\n",
    "mpl.rcParams['text.usetex'] = True"
   ]
  },
  {
   "cell_type": "markdown",
   "id": "7a7b9c21",
   "metadata": {},
   "source": [
    "# 1- test function"
   ]
  },
  {
   "cell_type": "code",
   "execution_count": null,
   "id": "9fd0c6f4",
   "metadata": {},
   "outputs": [],
   "source": [
    "from GPPY.monte_carlo_test_functions import (f_1, f_2, f_3, f_4, f_5,\n",
    "                                             f_6, f_7,\n",
    "                                             f_8,\n",
    "                                             exact_integral_f_1, exact_integral_f_2,\n",
    "                                             exact_integral_f_3, exact_integral_f_4, \n",
    "                                             exact_integral_f_5, exact_integral_f_6,\n",
    "                                             exact_integral_f_7,\n",
    "                                             exact_integral_f_8,\n",
    "                                             support_integrands)\n"
   ]
  },
  {
   "cell_type": "code",
   "execution_count": null,
   "id": "e03a7617",
   "metadata": {},
   "outputs": [],
   "source": [
    "for d in range(2,8):\n",
    "    print(\"for d={}\".format(d))\n",
    "    i_f = [{\"f_\"+str(i): globals()[\"exact_integral_f_{}\".format(i)](d)} for i in range(1,9)]\n",
    "    print(\"Exact integral functions=\", i_f )"
   ]
  },
  {
   "cell_type": "code",
   "execution_count": null,
   "id": "305861c0",
   "metadata": {
    "scrolled": true
   },
   "outputs": [],
   "source": [
    "r=1 #radius observation window\n",
    "x = np.linspace(-r,r, 80)\n",
    "X, Y = np.meshgrid(x, x)\n",
    "points = np.array([X.ravel(), Y.ravel()]).T\n",
    "z_f_1 = f_1(points)\n",
    "z_f_2 = f_2(points)\n",
    "z_f_3 = f_3(points)\n",
    "z_f_4 = f_4(points)\n",
    "z_f_5 = f_5(points)\n",
    "z_f_6 = f_6(points)\n",
    "z_f_7 = f_7(points)\n",
    "z_f_8 = f_8(points)\n",
    "fig = plt.figure(figsize=(14, 4))\n",
    "ax = fig.add_subplot(2, 4, 1, projection='3d')\n",
    "ax.scatter3D(X.ravel(), Y.ravel(), z_f_1, c=z_f_1)\n",
    "ax.set_title(r\"$f_1$\")\n",
    "ax = fig.add_subplot(2, 4, 2, projection='3d')\n",
    "ax.scatter3D(X.ravel(), Y.ravel(), z_f_2, c=z_f_2)\n",
    "ax.set_title(r\"$f_2$\")\n",
    "ax = fig.add_subplot(2, 4, 3, projection='3d')\n",
    "ax.scatter3D(X.ravel(), Y.ravel(), z_f_3, c=z_f_3)\n",
    "ax.set_title(r\"$f_3$\")\n",
    "ax = fig.add_subplot(2, 4, 4, projection='3d')\n",
    "ax.scatter3D(X.ravel(), Y.ravel(), z_f_4, c=z_f_4)\n",
    "ax.set_title(r\"$f_4$\")\n",
    "ax = fig.add_subplot(2, 4, 5, projection='3d')\n",
    "ax.scatter3D(X.ravel(), Y.ravel(), z_f_5, c=z_f_5)\n",
    "ax.set_title(r\"$f_5$\")\n",
    "ax = fig.add_subplot(2, 4, 6, projection='3d')\n",
    "ax.scatter3D(X.ravel(), Y.ravel(), z_f_6, c=z_f_6)\n",
    "ax.set_title(r\"$f_6$\")\n",
    "ax = fig.add_subplot(2, 4, 7, projection='3d')\n",
    "ax.scatter3D(X.ravel(), Y.ravel(), z_f_7, c=z_f_7)\n",
    "ax.set_title(r\"$f_7$\")\n",
    "ax = fig.add_subplot(2, 4, 8, projection='3d')\n",
    "ax.scatter3D(X.ravel(), Y.ravel(), z_f_8, c=z_f_8)\n",
    "ax.set_title(r\"$f_7$\")\n",
    "plt.show()"
   ]
  },
  {
   "cell_type": "code",
   "execution_count": null,
   "id": "95fb4c6e",
   "metadata": {},
   "outputs": [],
   "source": [
    "r=1 #radius observation window\n",
    "x = np.atleast_2d(np.linspace(-r,r, 140)).T\n",
    "z_f_1 = f_1(x)\n",
    "z_f_2 = f_2(x)\n",
    "z_f_3 = f_3(x)\n",
    "z_f_4 = f_4(x)\n",
    "z_f_5 = f_5(x)\n",
    "z_f_6 = f_6(x)\n",
    "z_f_7 = f_7(x)\n",
    "z_f_8 = f_8(x)\n",
    "\n",
    "fig = plt.figure(figsize=(10, 6))\n",
    "ax = fig.add_subplot(2, 4, 1)\n",
    "ax.plot(x, z_f_1 )\n",
    "ax.set_title(r\"$f_1$\")\n",
    "ax = fig.add_subplot(2, 4, 2)\n",
    "ax.plot(x, z_f_2)\n",
    "ax.set_title(r\"$f_2$\")\n",
    "ax = fig.add_subplot(2, 4, 3)\n",
    "ax.plot(x,  z_f_3)\n",
    "ax.set_title(r\"$f_3$\")\n",
    "ax = fig.add_subplot(2, 4, 4)\n",
    "ax.plot( x, z_f_4)\n",
    "ax.set_title(r\"$f_4$\")\n",
    "ax = fig.add_subplot(2, 4, 5)\n",
    "ax.plot(x, z_f_5)\n",
    "ax.set_title(r\"$f_5$\")\n",
    "ax = fig.add_subplot(2, 4, 6)\n",
    "ax.plot(x, z_f_6)\n",
    "ax.set_title(r\"$f_6$\")\n",
    "ax = fig.add_subplot(2, 4, 7)\n",
    "ax.plot(x, z_f_7)\n",
    "ax.set_title(r\"$f_7$\")\n",
    "ax = fig.add_subplot(2, 4, 8)\n",
    "ax.plot(x, z_f_8)\n",
    "ax.set_title(r\"$f_8$\")\n",
    "plt.show()"
   ]
  },
  {
   "cell_type": "markdown",
   "id": "ebb2be70",
   "metadata": {},
   "source": [
    "# 2- MC tests "
   ]
  },
  {
   "cell_type": "code",
   "execution_count": null,
   "id": "3812beca",
   "metadata": {},
   "outputs": [],
   "source": [
    "from GPPY.monte_carlo_tests_setup import mc_results, plot_mc_results, dataframe_mse_results"
   ]
  },
  {
   "cell_type": "code",
   "execution_count": null,
   "metadata": {},
   "outputs": [],
   "source": [
    "nb_point_list=[100, 500, 1000, 1500]"
   ]
  },
  {
   "cell_type": "markdown",
   "metadata": {},
   "source": [
    "## d=2"
   ]
  },
  {
   "cell_type": "code",
   "execution_count": null,
   "metadata": {},
   "outputs": [],
   "source": []
  },
  {
   "cell_type": "code",
   "execution_count": null,
   "metadata": {
    "scrolled": true
   },
   "outputs": [],
   "source": [
    "d=2\n",
    "nb_sample=100\n",
    "nb_function=7\n",
    "support_window = support_integrands(d) \n",
    "estimators = [\"MC\", \"MCR\", \"MCP\", \"MCDPP\",\n",
    "              #\"MCKS_h0\", \"MCKSc_h0\", \n",
    "              \"RQMC\", \"MCCV\"]\n",
    "if __name__ == \"__main__\":\n",
    "    mc_results_2d, nb_point_2d = mc_results(d, nb_point_list, nb_sample,\n",
    "                                            nb_function, support_window, \n",
    "                                            estimators=estimators)"
   ]
  },
  {
   "cell_type": "code",
   "execution_count": null,
   "metadata": {},
   "outputs": [],
   "source": [
    "dataframe_mse_results(d=d, mc_results=mc_results_2d, nb_function=nb_function,\n",
    "                      nb_sample=nb_sample)"
   ]
  },
  {
   "cell_type": "code",
   "execution_count": null,
   "metadata": {},
   "outputs": [],
   "source": [
    "dataframe_mse_results(d=d, mc_results=mc_results_2d, nb_function=nb_function,\n",
    "                      nb_sample=nb_sample)"
   ]
  },
  {
   "cell_type": "code",
   "execution_count": null,
   "metadata": {
    "scrolled": false
   },
   "outputs": [],
   "source": [
    "plot_mc_results(d, mc_results_2d, nb_point_list, nb_sample, log_scale=False)"
   ]
  },
  {
   "cell_type": "code",
   "execution_count": null,
   "metadata": {},
   "outputs": [],
   "source": [
    "from GPPY.monte_carlo_tests_setup import plot_mc_results\n",
    "\n",
    "r = {\n",
    "     'MCR':mc_results_2d['MCR'],\n",
    "    'MC':mc_results_2d['MC'], \n",
    "     'MCP':mc_results_2d['MCP'],\n",
    "     'MCDPP':mc_results_2d['MCDPP'],\n",
    "     'MCPS':mc_results_2d['MCPS'],\n",
    "     'RQMC': mc_results_2d['RQMC'],\n",
    "     'MCCV':mc_results_2d['MCCV'],\n",
    "}\n",
    "plot_mc_results(d, r, nb_point_list, nb_sample, log_scale=False)"
   ]
  },
  {
   "cell_type": "markdown",
   "metadata": {},
   "source": [
    "## d=3"
   ]
  },
  {
   "cell_type": "code",
   "execution_count": null,
   "metadata": {},
   "outputs": [],
   "source": []
  },
  {
   "cell_type": "code",
   "execution_count": null,
   "metadata": {},
   "outputs": [],
   "source": [
    "d=3\n",
    "#N = [2**5, 2**6, 2**7, 2**8, 300, 400,  2**9, 700, 2**(10), 1300, 1500, 2**(11)]\n",
    "#nb_point_list=[100, 300, 500, 1000, 1500, 2000]\n",
    "nb_sample=100\n",
    "nb_function=5\n",
    "support_window = support_integrands(d) \n",
    "if __name__ == \"__main__\":\n",
    "    mc_results_3d, nb_point_3d = mc_results(d, nb_point_list, nb_sample,\n",
    "                                     nb_function, support_window, \n",
    "                                     correction=True)"
   ]
  },
  {
   "cell_type": "code",
   "execution_count": null,
   "metadata": {},
   "outputs": [],
   "source": [
    "mse_3d_results = dataframe_mse_results(d=d, mc_results=mc_results_3d, nb_function=nb_function,\n",
    "                      nb_sample=nb_sample)\n",
    "mse_3d_results"
   ]
  },
  {
   "cell_type": "code",
   "execution_count": null,
   "metadata": {},
   "outputs": [],
   "source": [
    "plot_mc_results(d, mc_results_3d, nb_point_list, nb_sample, save_fig=False)"
   ]
  },
  {
   "cell_type": "code",
   "execution_count": null,
   "metadata": {},
   "outputs": [],
   "source": [
    "r = {\n",
    "     'MCR':mc_results_3d['MCR'],\n",
    "    'MC':mc_results_3d['MC'], \n",
    "     'MCP':mc_results_3d['MCP'],\n",
    "     'MCDPP':mc_results_3d['MCDPP'],\n",
    "     'RQMC': mc_results_3d['RQMC'],\n",
    "     'MCCV':mc_results_3d['MCCV'],\n",
    "}\n",
    "plot_mc_results(d, r, nb_point_list, nb_sample, log_scale=False)"
   ]
  },
  {
   "cell_type": "markdown",
   "metadata": {},
   "source": [
    "## d= 5"
   ]
  },
  {
   "cell_type": "code",
   "execution_count": null,
   "metadata": {},
   "outputs": [],
   "source": [
    "d=5\n",
    "#N = [2**5, 2**6, 2**7, 2**8, 300, 400,  2**9, 700, 2**(10), 1300, 1500, 2**(11)]\n",
    "#nb_point_list=[100, 500, 1000, 1500]\n",
    "nb_sample=100\n",
    "nb_function=5\n",
    "support_window = support_integrands(d) \n",
    "if __name__ == \"__main__\":\n",
    "    mc_results_5d, nb_point_5d = mc_results(d, nb_point_list, nb_sample,\n",
    "                                     nb_function, support_window, \n",
    "                                     correction=True)"
   ]
  },
  {
   "cell_type": "code",
   "execution_count": null,
   "metadata": {},
   "outputs": [],
   "source": [
    "dataframe_mse_results(d=d, mc_results=mc_results_5d, nb_function=nb_function,\n",
    "                      nb_sample=nb_sample)"
   ]
  },
  {
   "cell_type": "code",
   "execution_count": null,
   "metadata": {
    "scrolled": false
   },
   "outputs": [],
   "source": [
    "r = {\n",
    "     'MCR':mc_results_5d['MCR'],\n",
    "    'MC':mc_results_5d['MC'], \n",
    "     'MCP':mc_results_5d['MCP'],\n",
    "     'MCDPP':mc_results_5d['MCDPP'],\n",
    "     'RQMC': mc_results_5d['RQMC'],\n",
    "     'MCCV':mc_results_5d['MCCV'],\n",
    "}\n",
    "plot_mc_results(d, r, nb_point_list, nb_sample, log_scale=False)"
   ]
  },
  {
   "cell_type": "code",
   "execution_count": null,
   "metadata": {},
   "outputs": [],
   "source": []
  },
  {
   "cell_type": "code",
   "execution_count": null,
   "metadata": {
    "scrolled": true
   },
   "outputs": [],
   "source": [
    "plot_mc_results(d, r, nb_point, nb_sample, save_fig=False)"
   ]
  },
  {
   "cell_type": "code",
   "execution_count": null,
   "metadata": {},
   "outputs": [],
   "source": [
    "mse_5d_results = dataframe_mse_results(mc_results_5d, nb_function)\n",
    "mse_5d_results"
   ]
  },
  {
   "cell_type": "code",
   "execution_count": null,
   "metadata": {},
   "outputs": [],
   "source": [
    "mse_5d_results = dataframe_mse_results(mc_results_2d, nb_function)"
   ]
  },
  {
   "cell_type": "code",
   "execution_count": null,
   "metadata": {},
   "outputs": [],
   "source": []
  },
  {
   "cell_type": "markdown",
   "metadata": {},
   "source": [
    "## d=6"
   ]
  },
  {
   "cell_type": "code",
   "execution_count": null,
   "metadata": {},
   "outputs": [],
   "source": [
    "d=6\n",
    "#N = [2**5, 2**6, 2**7, 2**8, 300, 400,  2**9, 700, 2**(10), 1300, 1500, 2**(11)]\n",
    "#nb_point_list=[100, 500, 1000, 1500, 2000]\n",
    "#nb_sample=40\n",
    "#nb_function=6\n",
    "support_window = support_integrands(d) \n",
    "if __name__ == \"__main__\":\n",
    "    mc_results_6d, nb_point_6d = mc_results(d, nb_point_list, nb_sample,\n",
    "                                     nb_function, support_window, \n",
    "                                     correction=False)"
   ]
  },
  {
   "cell_type": "code",
   "execution_count": null,
   "metadata": {},
   "outputs": [],
   "source": [
    "plot_mc_results(d, mc_results_5d, nb_point, nb_sample, save_fig=False)"
   ]
  },
  {
   "cell_type": "code",
   "execution_count": null,
   "metadata": {},
   "outputs": [],
   "source": []
  },
  {
   "cell_type": "markdown",
   "metadata": {},
   "source": [
    "# d=8"
   ]
  },
  {
   "cell_type": "code",
   "execution_count": null,
   "metadata": {},
   "outputs": [],
   "source": [
    "d=8\n",
    "#N = [2**5, 2**6, 2**7, 2**8, 300, 400,  2**9, 700, 2**(10), 1300, 1500, 2**(11)]\n",
    "nb_point_list=[100, 500, 1000]\n",
    "nb_sample=50\n",
    "nb_function=5\n",
    "support_window = support_integrands(d) \n",
    "if __name__ == \"__main__\":\n",
    "    mc_results_8d, nb_point_8d = mc_results(d, nb_point_list, nb_sample,\n",
    "                                     nb_function, support_window, \n",
    "                                     correction=False)"
   ]
  },
  {
   "cell_type": "code",
   "execution_count": null,
   "metadata": {},
   "outputs": [],
   "source": [
    "dataframe_mse_results(d=d, mc_results=mc_results_8d, nb_function=nb_function,\n",
    "                      nb_sample=nb_sample)"
   ]
  },
  {
   "cell_type": "code",
   "execution_count": null,
   "metadata": {},
   "outputs": [],
   "source": [
    "plot_mc_results(d, mc_results_2d, nb_point_list, nb_sample, save_fig=\"2d_mc_results.pdf\")"
   ]
  },
  {
   "cell_type": "code",
   "execution_count": null,
   "metadata": {},
   "outputs": [],
   "source": []
  },
  {
   "cell_type": "markdown",
   "metadata": {},
   "source": [
    "# High dimension "
   ]
  },
  {
   "cell_type": "code",
   "execution_count": null,
   "metadata": {},
   "outputs": [],
   "source": [
    "from GPPY.monte_carlo_tests_setup import mc_fast_results"
   ]
  },
  {
   "cell_type": "code",
   "execution_count": null,
   "metadata": {},
   "outputs": [],
   "source": [
    "d=10\n",
    "#N = [2**5, 2**6, 2**7, 2**8, 300, 400,  2**9, 700, 2**(10), 1300, 1500, 2**(11)]\n",
    "nb_point_list=[100, 500, 700]\n",
    "nb_sample=50\n",
    "nb_function=6\n",
    "support_window = support_integrands(d) \n",
    "if __name__ == \"__main__\":\n",
    "    mc_results_20d, nb_point = mc_fast_results(d, nb_point_list, nb_sample,\n",
    "                                     nb_function, support_window)"
   ]
  },
  {
   "cell_type": "code",
   "execution_count": null,
   "metadata": {},
   "outputs": [],
   "source": []
  },
  {
   "cell_type": "code",
   "execution_count": null,
   "metadata": {},
   "outputs": [],
   "source": []
  },
  {
   "cell_type": "code",
   "execution_count": null,
   "metadata": {},
   "outputs": [],
   "source": [
    "import GPPY.monte_carlo_test_functions as mc_test_f\n",
    "\n",
    "mc_test_f.exact_integral_f_1(2)"
   ]
  },
  {
   "cell_type": "code",
   "execution_count": null,
   "metadata": {},
   "outputs": [],
   "source": [
    "import math\n",
    "\n",
    "math.pi/4"
   ]
  },
  {
   "cell_type": "markdown",
   "metadata": {},
   "source": [
    "# Test Pushed Sobol "
   ]
  },
  {
   "cell_type": "code",
   "execution_count": null,
   "metadata": {},
   "outputs": [],
   "source": [
    "\n",
    "\n",
    "d=5\n",
    "#nb_point_list=[60]\n",
    "nb_point_list=[ 100, 500, 1000]\n",
    "estimtors = [\"MC\", \"MCR\", \"MCP\", \"MCPS\", \"RQMC\"]\n",
    "nb_sample=100\n",
    "nb_function=5\n",
    "support_window = support_integrands(d) \n",
    "if __name__ == \"__main__\":\n",
    "    mc_results_5d_, _ = mc_results(d, nb_point_list, nb_sample,\n",
    "                                     nb_function, support_window,\n",
    "                                           estimators=estimtors\n",
    "                                           )"
   ]
  },
  {
   "cell_type": "code",
   "execution_count": null,
   "metadata": {},
   "outputs": [],
   "source": [
    "plot_mc_results(d, mc_results_4d, nb_point_list, nb_sample, log_scale=False)"
   ]
  },
  {
   "cell_type": "code",
   "execution_count": null,
   "metadata": {},
   "outputs": [],
   "source": [
    "from GPPY.spatial_windows import BallWindow\n",
    "d=7\n",
    "#nb_point_list=[60]\n",
    "nb_point_list=[ 100, 500, 1000, 1500]\n",
    "estimtors = [\"MC\", \"MCR\", \"MCP\", \"MCPS\", \"RQMC\"]\n",
    "nb_sample=100\n",
    "nb_function=2\n",
    "# support \n",
    "r= min(np.diff(support_integrands(d).bounds, axis=1))/2\n",
    "support_window = BallWindow(center=[0]*d, radius=r) \n",
    "if __name__ == \"__main__\":\n",
    "    mc_results_4d_, _ = mc_results(d, nb_point_list, nb_sample,\n",
    "                                     nb_function, support_window,\n",
    "                                           estimators=estimtors\n",
    "                                           )"
   ]
  },
  {
   "cell_type": "code",
   "execution_count": null,
   "metadata": {},
   "outputs": [],
   "source": [
    "support_window.type()"
   ]
  },
  {
   "cell_type": "code",
   "execution_count": null,
   "metadata": {},
   "outputs": [],
   "source": [
    "# for function with ball window \n",
    "d=7\n",
    "#nb_point_list=[60]\n",
    "nb_point_list=[ 100, 500, 1000, 1500]\n",
    "estimtors = [\"MC\", \"MCR\", \"MCP\", \"MCPS\", \"RQMC\"]\n",
    "nb_sample=100\n",
    "nb_function=3\n",
    "support_window =  \n",
    "if __name__ == \"__main__\":\n",
    "    mc_results_4d_, _ = mc_results(d, nb_point_list, nb_sample,\n",
    "                                     nb_function, support_window,\n",
    "                                           estimators=estimtors\n",
    "                                           )"
   ]
  },
  {
   "cell_type": "markdown",
   "metadata": {},
   "source": [
    "# trying to beat RQMC"
   ]
  },
  {
   "cell_type": "code",
   "execution_count": null,
   "id": "c23bbf05",
   "metadata": {},
   "outputs": [],
   "source": [
    "import multiprocessing\n",
    "\n",
    "multiprocessing.cpu_count()"
   ]
  },
  {
   "cell_type": "code",
   "execution_count": null,
   "id": "d2daf095",
   "metadata": {},
   "outputs": [],
   "source": [
    "nb_sample=50\n",
    "nb_function=8\n",
    "estimators = [\"MC\", \"MCR\",\n",
    "              \"MCP\",\n",
    "              \"RQMC\"]"
   ]
  },
  {
   "cell_type": "code",
   "execution_count": null,
   "metadata": {
    "scrolled": true
   },
   "outputs": [],
   "source": [
    "d=2\n",
    "support_window = support_integrands(d) \n",
    "if __name__ == \"__main__\":\n",
    "    mc_results_2d, nb_point_2d = mc_results(d, nb_point_list, nb_sample,\n",
    "                                            nb_function, support_window, \n",
    "                                            estimators=estimators, core_number=70)"
   ]
  },
  {
   "cell_type": "code",
   "execution_count": null,
   "metadata": {},
   "outputs": [],
   "source": [
    "dataframe_mse_results(d=d, mc_results=mc_results_2d, nb_function=nb_function,\n",
    "                      nb_sample=nb_sample)"
   ]
  },
  {
   "cell_type": "code",
   "execution_count": null,
   "metadata": {
    "scrolled": false
   },
   "outputs": [],
   "source": [
    "plot_mc_results(2, mc_results_2d, nb_point_list, nb_sample, log_scale=False, save_fig=\"mc_2_d.pdf\", plot_dim=1)"
   ]
  },
  {
   "cell_type": "code",
   "execution_count": null,
   "metadata": {},
   "outputs": [],
   "source": [
    "d=3\n",
    "support_window = support_integrands(d) \n",
    "\n",
    "if __name__ == \"__main__\":\n",
    "    mc_results_3d, _ = mc_results(d, nb_point_list, nb_sample,\n",
    "                                    nb_function, support_window, \n",
    "                                    estimators=estimators,\n",
    "                                    core_number=70)"
   ]
  },
  {
   "cell_type": "code",
   "execution_count": null,
   "metadata": {},
   "outputs": [],
   "source": [
    "plot_mc_results(3, mc_results_3d, nb_point_list, nb_sample, log_scale=False, save_fig=\"mc_3_d.pdf\", plot_dim=1)"
   ]
  },
  {
   "cell_type": "code",
   "execution_count": null,
   "metadata": {},
   "outputs": [],
   "source": [
    "d=4\n",
    "support_window = support_integrands(d) \n",
    "\n",
    "if __name__ == \"__main__\":\n",
    "    mc_results_4d, _ = mc_results(d, nb_point_list, nb_sample,\n",
    "                                    nb_function, support_window, \n",
    "                                    estimators=estimators,\n",
    "                                    core_number=50,\n",
    "                                    add_r_push=0.1)"
   ]
  },
  {
   "cell_type": "code",
   "execution_count": null,
   "metadata": {},
   "outputs": [],
   "source": [
    "plot_mc_results(d, mc_results_4d, nb_point_list, nb_sample, log_scale=False, plot_dim=1)"
   ]
  },
  {
   "cell_type": "code",
   "execution_count": null,
   "metadata": {},
   "outputs": [],
   "source": [
    "d=4\n",
    "support_window = support_integrands(d) \n",
    "\n",
    "if __name__ == \"__main__\":\n",
    "    mc_results_4d_, _ = mc_results(d, nb_point_list, nb_sample,\n",
    "                                    nb_function, support_window, \n",
    "                                    estimators=estimators,\n",
    "                                    core_number=50,\n",
    "                                    add_r_push=0.2)"
   ]
  },
  {
   "cell_type": "code",
   "execution_count": null,
   "metadata": {},
   "outputs": [],
   "source": [
    "plot_mc_results(4, mc_results_4d_, nb_point_list, nb_sample, log_scale=False, save_fig=\"mc_4_d.pdf\", plot_dim=1)"
   ]
  },
  {
   "cell_type": "code",
   "execution_count": null,
   "id": "7e9f8c71",
   "metadata": {},
   "outputs": [],
   "source": [
    "d=5\n",
    "\n",
    "support_window = support_integrands(d) \n",
    "if __name__ == \"__main__\":\n",
    "    mc_results_7d, _ = mc_results(d, nb_point_list, \n",
    "                                            nb_sample,\n",
    "                                    nb_function, support_window, \n",
    "                                    estimators=estimators,\n",
    "                                    core_number=50,\n",
    "                                    add_r_push=0.2)"
   ]
  },
  {
   "cell_type": "code",
   "execution_count": null,
   "id": "291b59fb",
   "metadata": {},
   "outputs": [],
   "source": [
    "plot_mc_results(5, mc_results_7d, nb_point_list, nb_sample, log_scale=False, save_fig=\"mc_5_d.pdf\", plot_dim=1)"
   ]
  },
  {
   "cell_type": "code",
   "execution_count": null,
   "id": "62804af6",
   "metadata": {},
   "outputs": [],
   "source": []
  },
  {
   "cell_type": "code",
   "execution_count": null,
   "metadata": {},
   "outputs": [],
   "source": [
    "d=6\n",
    "\n",
    "support_window = support_integrands(d) \n",
    "if __name__ == \"__main__\":\n",
    "    mc_results_6d_, _ = mc_results(d, nb_point_list, \n",
    "                                    nb_sample,\n",
    "                                    nb_function, support_window, \n",
    "                                    estimators=estimators,\n",
    "                                    core_number=50,\n",
    "                                    add_r_push=0.2)"
   ]
  },
  {
   "cell_type": "code",
   "execution_count": null,
   "metadata": {},
   "outputs": [],
   "source": [
    "plot_mc_results(d, mc_results_2d, nb_point_list, nb_sample, log_scale=False)"
   ]
  }
 ],
 "metadata": {
  "kernelspec": {
   "display_name": ".venv",
   "language": "python",
   "name": "python3"
  },
  "language_info": {
   "codemirror_mode": {
    "name": "ipython",
    "version": 3
   },
   "file_extension": ".py",
   "mimetype": "text/x-python",
   "name": "python",
   "nbconvert_exporter": "python",
   "pygments_lexer": "ipython3",
   "version": "3.9.8 (main, Jan 24 2023, 18:51:48) \n[GCC 9.4.0]"
  },
  "vscode": {
   "interpreter": {
    "hash": "a8c0ac4e893b1046d36aa475b5063b5f32b19820e049035f5b4d463e9b9d3898"
   }
  }
 },
 "nbformat": 4,
 "nbformat_minor": 5
}
