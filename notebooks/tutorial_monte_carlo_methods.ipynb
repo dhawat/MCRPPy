{
 "cells": [
  {
   "cell_type": "markdown",
   "id": "f3aab61d",
   "metadata": {},
   "source": [
    "    1- test function\n",
    "    2- MC tests"
   ]
  },
  {
   "cell_type": "code",
   "execution_count": null,
   "id": "bf09a018",
   "metadata": {},
   "outputs": [],
   "source": [
    "# ! delete the following\n",
    "from IPython.display import display, HTML\n",
    "display(HTML(\"<style>.container { width:100% !important; }</style>\"))\n",
    "\n",
    "%load_ext autoreload\n",
    "%autoreload 2\n",
    "\n",
    "%config InlineBackend.figure_format='retina'\n",
    "import os\n",
    "import sys\n",
    "sys.path.insert(0, os.path.abspath('../src/'))"
   ]
  },
  {
   "cell_type": "code",
   "execution_count": null,
   "id": "b24679e2",
   "metadata": {},
   "outputs": [],
   "source": [
    "import numpy as np\n",
    "import matplotlib.pyplot as plt\n",
    "import math"
   ]
  },
  {
   "attachments": {},
   "cell_type": "markdown",
   "id": "7a7b9c21",
   "metadata": {},
   "source": [
    "# 1- Test functions"
   ]
  },
  {
   "cell_type": "code",
   "execution_count": null,
   "id": "9fd0c6f4",
   "metadata": {},
   "outputs": [],
   "source": [
    "from mcrppy.integrand_test_functions import (support_integrands,\n",
    "                                             f_1, f_2, f_3,\n",
    "                                             exact_integral_f_1, exact_integral_f_2,\n",
    "                                             exact_integral_f_3)\n"
   ]
  },
  {
   "cell_type": "code",
   "execution_count": null,
   "id": "e03a7617",
   "metadata": {},
   "outputs": [],
   "source": [
    "nb_function=5\n",
    "fct_list = [f_1, f_2, f_3]\n",
    "fct_names = [\"f_1\", \"f_2\", \"f_3\"]\n",
    "exact_integrals = [exact_integral_f_1, exact_integral_f_2, exact_integral_f_3]\n",
    "for d in range(2,8):\n",
    "    exact_integrals = [exact_integral_f_1(d), exact_integral_f_2(d), exact_integral_f_3(d)]\n",
    "    print(\"for d={}\".format(d))\n",
    "    i_f = [{name: integ} for name, integ in zip(fct_names, exact_integrals)]\n",
    "    print(\"Exact integral functions=\", i_f )"
   ]
  },
  {
   "cell_type": "code",
   "execution_count": null,
   "id": "305861c0",
   "metadata": {
    "scrolled": true
   },
   "outputs": [],
   "source": [
    "x = np.linspace(-3/5,3/5, 140)\n",
    "X, Y = np.meshgrid(x, x)\n",
    "points = np.array([X.ravel(), Y.ravel()]).T\n",
    "z_f_1 = f_1(points)\n",
    "z_f_2 = f_2(points)\n",
    "z_f_3 = f_3(points)\n",
    "fig = plt.figure(figsize=(15, 4))\n",
    "ax = fig.add_subplot(1, 3, 1, projection='3d')\n",
    "ax.scatter3D(X.ravel(), Y.ravel(), z_f_1, c=z_f_1, rasterized=True)\n",
    "ax.set_title(r\"$f_1$\")\n",
    "ax = fig.add_subplot(1, 3, 2, projection='3d')\n",
    "ax.scatter3D(X.ravel(), Y.ravel(), z_f_2, c=z_f_2, rasterized=True)\n",
    "ax.set_title(r\"$f_2$\")\n",
    "ax = fig.add_subplot(1, 3, 3, projection='3d')\n",
    "ax.scatter3D(X.ravel(), Y.ravel(), z_f_3, c=z_f_3, rasterized=True)\n",
    "ax.set_title(r\"$f_3$\")\n",
    "plt.tight_layout()\n",
    "#plt.savefig(\"linear_stat_used_for_var_comp.pdf\")\n",
    "plt.show()"
   ]
  },
  {
   "cell_type": "markdown",
   "id": "ebb2be70",
   "metadata": {},
   "source": [
    "# 2- MC tests "
   ]
  },
  {
   "cell_type": "code",
   "execution_count": null,
   "id": "c23bbf05",
   "metadata": {},
   "outputs": [],
   "source": [
    "from mcrppy.monte_carlo_methods import mc_results, dataframe_error_test, dataframe_mse_results, dataframe_residual_test\n",
    "from mcrppy.plot_functions import plot_mc_results, qq_plot_residual"
   ]
  },
  {
   "cell_type": "code",
   "execution_count": null,
   "id": "d2daf095",
   "metadata": {},
   "outputs": [],
   "source": [
    "nb_samples=100\n",
    "nb_cores = 3\n",
    "nb_points_list=np.arange(50, 1050, 50).tolist()\n",
    "fct_list = [f_1, f_2, f_3]\n",
    "fct_names = [\"f_1\", \"f_2\", \"f_3\"]\n",
    "estimators = [\"MC\", \n",
    "              \"MCRB\",\n",
    "              \"MCCV\",\n",
    "              \"RQMC\",\n",
    "              \"MCDPP\"]\n",
    "print(\"Number of tests: \", len(nb_points_list))\n",
    "print(\"Number of points to be used:\", nb_points_list)\n",
    "print(\"Methods to be used:\", estimators)"
   ]
  },
  {
   "cell_type": "markdown",
   "id": "937b2bda",
   "metadata": {},
   "source": [
    "### For d=2"
   ]
  },
  {
   "cell_type": "code",
   "execution_count": null,
   "id": "3c57a61c",
   "metadata": {},
   "outputs": [],
   "source": [
    "d=2\n",
    "exact_integrals= [exact_integral_f_1(d), \n",
    "                  exact_integral_f_2(d),\n",
    "                  exact_integral_f_3(d)]\n",
    "support_window = support_integrands(d) "
   ]
  },
  {
   "cell_type": "code",
   "execution_count": null,
   "id": "c1820e50",
   "metadata": {
    "scrolled": true
   },
   "outputs": [],
   "source": [
    "if __name__ == \"__main__\":\n",
    "    results_2d, nb_points_2d = mc_results(d, \n",
    "                                          nb_points_list=nb_points_list, \n",
    "                                          nb_samples=nb_samples,\n",
    "                                          support_window=support_window,\n",
    "                                          fct_list=fct_list,\n",
    "                                          fct_names=fct_names,\n",
    "                                          exact_integrals=exact_integrals,\n",
    "                                          estimators=estimators, \n",
    "                                          nb_cores=nb_cores,\n",
    "                                          file_name=\"mc_results_2d_final.pickle\"\n",
    "                                            )"
   ]
  },
  {
   "cell_type": "code",
   "execution_count": null,
   "id": "b49b1460",
   "metadata": {},
   "outputs": [],
   "source": [
    "plot_mc_results(d, \n",
    "                results_2d, \n",
    "                nb_points_2d, \n",
    "                fct_list=fct_list, \n",
    "                fct_names=fct_names,\n",
    "                log_scale=False,\n",
    "                estimators=estimators,\n",
    "                save_fig=\"std_mc_2_d.pdf\"\n",
    "               )"
   ]
  },
  {
   "cell_type": "code",
   "execution_count": null,
   "id": "d47a335d",
   "metadata": {},
   "outputs": [],
   "source": [
    "print(\"Normality test of residuals of the linear regression:\")\n",
    "dataframe_residual_test(mc_list=results_2d, \n",
    "                        nb_points_list=nb_points_2d, \n",
    "                        fct_names=fct_names, \n",
    "                        test_type=\"SW\")"
   ]
  },
  {
   "cell_type": "code",
   "execution_count": null,
   "id": "e54d5727",
   "metadata": {},
   "outputs": [],
   "source": [
    "qq_plot_residual(mc_list=results_2d, \n",
    "                 nb_points_list=nb_points_2d, \n",
    "                 fct_names=fct_names,\n",
    "                #save_fig=\"qq_plot_2d.pdf\"\n",
    "                )"
   ]
  },
  {
   "cell_type": "code",
   "execution_count": null,
   "id": "ab90fa21",
   "metadata": {},
   "outputs": [],
   "source": [
    "plot_mc_results(d=2, \n",
    "                mc_list=results_2d, \n",
    "                nb_points_list=nb_points_2d, \n",
    "                fct_list=fct_list[1:], \n",
    "                fct_names=fct_names[1:],\n",
    "                error_type=\"Error\",\n",
    "                plot_error=True,\n",
    "                plot_std=False,\n",
    "                nb_subsample_nb_points=5,\n",
    "                estimators=estimators,\n",
    "                save_fig=\"error_mc_2d.pdf\"\n",
    "               )"
   ]
  },
  {
   "cell_type": "code",
   "execution_count": null,
   "id": "e1e21cb8",
   "metadata": {},
   "outputs": [],
   "source": [
    "import matplotlib.pyplot as plt\n",
    "mcrb = results_2d[\"MCRB\"]['mc_results_f_3']['error_MCRB'][-1]\n",
    "mc = results_2d[\"MC\"]['mc_results_f_3']['error_MC'][-1]\n",
    "mcdpp = results_2d[\"MCDPP\"]['mc_results_f_3']['error_MCDPP'][-1]\n",
    "rqmc = results_2d[\"RQMC\"]['mc_results_f_3']['error_RQMC'][-1]\n",
    "mccv = results_2d[\"MCCV\"]['mc_results_f_3']['error_MCCV'][-1]\n",
    "mc_results = [mc, mccv, mcrb, mcdpp, rqmc]\n",
    "labels = [\"MC\",\"MCCV\",  \"MCBR\", \"MCDPP\", \"RQMC\" ]\n",
    "fix, ax = plt.subplots(figsize=(5,4))\n",
    "ax.boxplot(x=mc_results, positions = [10, 20, 30, 40, 50], labels=labels)\n",
    "ax.hlines(y=0, xmax=50, xmin=5, colors=\"grey\", linestyles=\"--\")\n",
    "plt.show()"
   ]
  },
  {
   "cell_type": "code",
   "execution_count": null,
   "id": "8b4ccfa1",
   "metadata": {},
   "outputs": [],
   "source": []
  },
  {
   "cell_type": "code",
   "execution_count": null,
   "id": "c5f46941",
   "metadata": {},
   "outputs": [],
   "source": [
    "# Square error\n",
    "plot_mc_results(d=2, \n",
    "                mc_list=results_2d, \n",
    "                nb_points_list=nb_points_2d, \n",
    "                fct_list=fct_list[1:], \n",
    "                fct_names=fct_names[1:],\n",
    "                error_type=\"SE\",\n",
    "                plot_error=True,\n",
    "                plot_std=False,\n",
    "                log_scale=True,\n",
    "                nb_subsample_nb_points=5,\n",
    "                estimators=estimators,\n",
    "                #save_fig=\"square_error_mc_2d.pdf\"\n",
    "               )"
   ]
  },
  {
   "cell_type": "markdown",
   "id": "6a59deac",
   "metadata": {},
   "source": [
    "# 2- d=3"
   ]
  },
  {
   "cell_type": "code",
   "execution_count": null,
   "id": "71520609",
   "metadata": {},
   "outputs": [],
   "source": [
    "d=3\n",
    "nb_points_list=np.arange(50, 1050, 50).tolist()\n",
    "exact_integrals= [exact_integral_f_1(d), \n",
    "                  exact_integral_f_2(d),\n",
    "                  exact_integral_f_3(d)]\n",
    "support_window = support_integrands(d) "
   ]
  },
  {
   "cell_type": "code",
   "execution_count": null,
   "id": "af04f5f2",
   "metadata": {},
   "outputs": [],
   "source": [
    "if __name__ == \"__main__\":\n",
    "    results_3d, nb_points_3d = mc_results(d, \n",
    "                                          nb_points_list=nb_points_list, \n",
    "                                          nb_samples=nb_samples,\n",
    "                                          support_window=support_window,\n",
    "                                          fct_list=fct_list,\n",
    "                                          fct_names=fct_names,\n",
    "                                          exact_integrals=exact_integrals,\n",
    "                                          estimators=estimators, \n",
    "                                          nb_cores=nb_cores,\n",
    "                                          file_name=\"mc_results_3d_final.pickle\"\n",
    "                                            )"
   ]
  },
  {
   "cell_type": "code",
   "execution_count": null,
   "id": "90d31bf7",
   "metadata": {},
   "outputs": [],
   "source": [
    "plot_mc_results(d, \n",
    "                results_3d, \n",
    "                nb_points_3d, \n",
    "                fct_list=fct_list, \n",
    "                fct_names=fct_names,\n",
    "                log_scale=False,\n",
    "                estimators=estimators,\n",
    "                save_fig=\"std_mc_3_d.pdf\"\n",
    "               )"
   ]
  },
  {
   "cell_type": "code",
   "execution_count": null,
   "id": "7e9f8c71",
   "metadata": {},
   "outputs": [],
   "source": [
    "print(\"Normality test of residuals of the linear regression:\")\n",
    "dataframe_residual_test(mc_list=results_3d, \n",
    "                        nb_points_list=nb_points_3d, \n",
    "                        fct_names=fct_names, \n",
    "                        test_type=\"SW\")"
   ]
  },
  {
   "cell_type": "code",
   "execution_count": null,
   "id": "291b59fb",
   "metadata": {},
   "outputs": [],
   "source": [
    "plot_mc_results(d=d, \n",
    "                mc_list=results_3d, \n",
    "                nb_points_list=nb_points_3d, \n",
    "                fct_list=fct_list[1:], \n",
    "                fct_names=fct_names[1:],\n",
    "                error_type=\"Error\",\n",
    "                plot_error=True,\n",
    "                plot_std=False,\n",
    "                nb_subsample_nb_points=5,\n",
    "                #estimators=[\"MC\", \"MCRB\", \"MCDPP\"],\n",
    "                #save_fig=\"square_error_mc_2d.pdf\"\n",
    "               )"
   ]
  },
  {
   "cell_type": "code",
   "execution_count": null,
   "id": "c865e112",
   "metadata": {},
   "outputs": [],
   "source": [
    "import matplotlib.pyplot as plt\n",
    "mcrb = results_3d[\"MCRB\"]['mc_results_f_3']['error_MCRB'][-1]\n",
    "mc = results_3d[\"MC\"]['mc_results_f_3']['error_MC'][-1]\n",
    "mcdpp = results_3d[\"MCDPP\"]['mc_results_f_3']['error_MCDPP'][-1]\n",
    "rqmc = results_3d[\"RQMC\"]['mc_results_f_3']['error_RQMC'][-1]\n",
    "mccv = results_3d[\"MCCV\"]['mc_results_f_3']['error_MCCV'][-1]\n",
    "mc_results = [mc, mccv, mcrb, mcdpp, rqmc]\n",
    "labels = [\"uniform\",\"MCCV\",  \"MCBR\", \"dpp\", \"RQMC\" ]\n",
    "fix, ax = plt.subplots(figsize=(5,4))\n",
    "ax.boxplot(x=mc_results, positions = [10, 20, 30, 40, 50], labels=labels)\n",
    "ax.hlines(y=0, xmax=50, xmin=5, colors=\"grey\", linestyles=\"--\")\n",
    "plt.show()"
   ]
  },
  {
   "cell_type": "markdown",
   "id": "62804af6",
   "metadata": {},
   "source": [
    "# 3- d=4"
   ]
  },
  {
   "cell_type": "code",
   "execution_count": null,
   "id": "6ce34451",
   "metadata": {},
   "outputs": [],
   "source": [
    "d=4\n",
    "nb_points_list=np.arange(50, 1050, 50).tolist()\n",
    "exact_integrals= [exact_integral_f_1(d), \n",
    "                  exact_integral_f_2(d),\n",
    "                  exact_integral_f_3(d)]\n",
    "support_window = support_integrands(d)"
   ]
  },
  {
   "cell_type": "code",
   "execution_count": null,
   "id": "00673b52",
   "metadata": {},
   "outputs": [],
   "source": [
    "if __name__ == \"__main__\":\n",
    "    results_4d, nb_points_4d = mc_results(d, \n",
    "                                          nb_points_list=nb_points_list, \n",
    "                                          nb_samples=nb_samples,\n",
    "                                          support_window=support_window,\n",
    "                                          fct_list=fct_list,\n",
    "                                          fct_names=fct_names,\n",
    "                                          exact_integrals=exact_integrals,\n",
    "                                          estimators=estimators, \n",
    "                                          nb_cores=nb_cores,\n",
    "                                          file_name=\"mc_results_4d_final.pickle\"\n",
    "                                            )"
   ]
  },
  {
   "cell_type": "code",
   "execution_count": null,
   "id": "290be442",
   "metadata": {},
   "outputs": [],
   "source": [
    "plot_mc_results(d, \n",
    "                results_4d, \n",
    "                nb_points_4d, \n",
    "                fct_list=fct_list, \n",
    "                fct_names=fct_names,\n",
    "                log_scale=False,\n",
    "                estimators=estimators,\n",
    "                save_fig=\"std_mc_4_d.pdf\"\n",
    "               )"
   ]
  },
  {
   "cell_type": "code",
   "execution_count": null,
   "id": "bb0fc408",
   "metadata": {},
   "outputs": [],
   "source": [
    "plot_mc_results(d=d, \n",
    "                mc_list=results_4d, \n",
    "                nb_points_list=nb_points_4d, \n",
    "                fct_list=fct_list[1:], \n",
    "                fct_names=fct_names[1:],\n",
    "                error_type=\"Error\",\n",
    "                plot_error=True,\n",
    "                plot_std=False,\n",
    "                nb_subsample_nb_points=5,\n",
    "                #estimators=[\"MC\", \"MCRB\", \"MCDPP\"],\n",
    "                #save_fig=\"square_error_mc_2d.pdf\"\n",
    "               )"
   ]
  },
  {
   "cell_type": "code",
   "execution_count": null,
   "id": "b2927db0",
   "metadata": {},
   "outputs": [],
   "source": [
    "import matplotlib.pyplot as plt\n",
    "mcrb = results_4d[\"MCRB\"]['mc_results_f_3']['error_MCRB'][-1]\n",
    "mc = results_4d[\"MC\"]['mc_results_f_3']['error_MC'][-1]\n",
    "mcdpp = results_4d[\"MCDPP\"]['mc_results_f_3']['error_MCDPP'][-1]\n",
    "rqmc = results_4d[\"RQMC\"]['mc_results_f_3']['error_RQMC'][-1]\n",
    "mccv = results_4d[\"MCCV\"]['mc_results_f_3']['error_MCCV'][-1]\n",
    "mc_results = [mc, mccv, mcrb, mcdpp, rqmc]\n",
    "labels = [\"uniform\",\"MCCV\",  \"MCBR\", \"dpp\", \"RQMC\" ]\n",
    "fix, ax = plt.subplots(figsize=(5,4))\n",
    "ax.boxplot(x=mc_results, positions = [10, 20, 30, 40, 50], labels=labels)\n",
    "ax.hlines(y=0, xmax=50, xmin=5, colors=\"grey\", linestyles=\"--\")\n",
    "plt.show()"
   ]
  },
  {
   "cell_type": "code",
   "execution_count": null,
   "id": "a105c721",
   "metadata": {},
   "outputs": [],
   "source": [
    "import matplotlib.pyplot as plt\n",
    "mcrb = results_4d[\"MCP\"]['mc_results_f_3']['error_MCP'][-1]\n",
    "mc = results_4d[\"MC\"]['mc_results_f_3']['error_MC'][-1]\n",
    "#mcdpp = results_4d[\"MCDPP\"]['mc_results_f_3']['error_MCDPP'][-1]\n",
    "rqmc = results_4d[\"RQMC\"]['mc_results_f_3']['error_RQMC'][-1]\n",
    "mccv = results_4d[\"MCCV\"]['mc_results_f_3']['error_MCCV'][-1]\n",
    "mc_results = [mc, mccv, mcrb, rqmc]\n",
    "labels = [\"uniform\",\"MCCV\", \"MCBR\", \"RQMC\" ]\n",
    "fix, ax = plt.subplots(figsize=(5,4))\n",
    "ax.boxplot(x=mc_results,\n",
    "           positions = [10, 20, 30, 40], \n",
    "           patch_artist=True,\n",
    "           meanline=True,\n",
    "           meanprops=dict(linestyle='--', linewidth=1.5, color='r'),\n",
    "           showmeans=True,\n",
    "           labels=labels)\n",
    "ax.hlines(y=0, xmax=50, xmin=5, colors=\"grey\", linestyles=\"--\")\n",
    "plt.show()"
   ]
  },
  {
   "cell_type": "code",
   "execution_count": null,
   "id": "f60f9866",
   "metadata": {},
   "outputs": [],
   "source": []
  }
 ],
 "metadata": {
  "kernelspec": {
   "display_name": "Python 3 (ipykernel)",
   "language": "python",
   "name": "python3"
  },
  "language_info": {
   "codemirror_mode": {
    "name": "ipython",
    "version": 3
   },
   "file_extension": ".py",
   "mimetype": "text/x-python",
   "name": "python",
   "nbconvert_exporter": "python",
   "pygments_lexer": "ipython3",
   "version": "3.9.2"
  },
  "vscode": {
   "interpreter": {
    "hash": "a8c0ac4e893b1046d36aa475b5063b5f32b19820e049035f5b4d463e9b9d3898"
   }
  }
 },
 "nbformat": 4,
 "nbformat_minor": 5
}
