{
 "cells": [
  {
   "cell_type": "markdown",
   "id": "6078d2a0",
   "metadata": {},
   "source": [
    "   \n",
    "   - 1- Gravitational allocation\n",
    "   - 2- Recursive repuslion of RPPP\n"
   ]
  },
  {
   "cell_type": "code",
   "execution_count": null,
   "id": "3f82d7be",
   "metadata": {},
   "outputs": [],
   "source": [
    "from IPython.display import display, HTML\n",
    "display(HTML(\"<style>.container { width:100% !important; }</style>\"))\n",
    "\n",
    "%load_ext autoreload\n",
    "%autoreload 2\n",
    "\n",
    "%config InlineBackend.figure_format='retina'\n",
    "import os\n",
    "import sys\n",
    "sys.path.insert(0, os.path.abspath('../src/'))"
   ]
  },
  {
   "cell_type": "code",
   "execution_count": null,
   "id": "d1aa2e65",
   "metadata": {},
   "outputs": [],
   "source": [
    "import matplotlib as mpl\n",
    "import matplotlib.pyplot as plt\n",
    "\n",
    "# make plots look nice\n",
    "plt.ticklabel_format(style='sci', axis='x', scilimits=(0,0))\n",
    "mpl.rcParams['xtick.labelsize'] = 10\n",
    "mpl.rcParams['ytick.labelsize'] = 12\n",
    "plt.rc('axes', labelsize=22)\n",
    "plt.rc('legend', fontsize=12)\n",
    "#formating ticks\n",
    "plt.rcParams['axes.formatter.limits'] = (-1, 1)\n",
    "plt.rcParams['axes.formatter.useoffset'] = False\n",
    "plt.rcParams['text.usetex'] = True"
   ]
  },
  {
   "cell_type": "code",
   "execution_count": null,
   "id": "db449f65",
   "metadata": {},
   "outputs": [],
   "source": [
    "import math\n",
    "import numpy as np\n",
    "import time\n",
    "import pickle"
   ]
  },
  {
   "cell_type": "markdown",
   "id": "e41d41a1",
   "metadata": {},
   "source": [
    "# 1- Gravitational allocation 2D"
   ]
  },
  {
   "cell_type": "code",
   "execution_count": null,
   "id": "58c94341",
   "metadata": {},
   "outputs": [],
   "source": [
    "from mcrppy.spatial_windows import BallWindow\n",
    "from mcrppy.point_processes import HomogeneousPoissonPointProcess\n",
    "from mcrppy.repelled_point_process import epsilon_critical\n",
    "from mcrppy.coulomb_force import force_base"
   ]
  },
  {
   "cell_type": "code",
   "execution_count": null,
   "id": "de5d19ae",
   "metadata": {},
   "outputs": [],
   "source": [
    "def starting_points(point, intenisty, nb_output=40, scale=0.02):\n",
    "    # in 2d\n",
    "    point = np.atleast_2d(point)\n",
    "    theta = np.linspace(0, 1, nb_output)*2*math.pi #angles\n",
    "    theta = theta.tolist()\n",
    "    radius = 1/intenisty*scale #5% of the basin volume\n",
    "    output_points = point + radius*np.array([np.cos(theta), np.sin(theta)]).T\n",
    "    return output_points\n",
    "\n",
    "# print(poisson_pp.points.shape)\n",
    "# a = poisson_pp.points[0]\n",
    "# b  = starting_points(a, intenisty=800)\n",
    "# plt.plot(b[:,0], b[:,1], \"b.\")\n",
    "# plt.plot(a[0], a[1], \"r.\")"
   ]
  },
  {
   "cell_type": "code",
   "execution_count": null,
   "id": "a1ae09a4",
   "metadata": {},
   "outputs": [],
   "source": [
    "def trajectory(x, points, intensity, stepsize, t_stop):\n",
    "    x_trajectory= [x]\n",
    "    for t in range(t_stop):\n",
    "        x_trajectory.append(x_trajectory[t] + stepsize*force_base(x_trajectory[t], points, intensity=intensity) )\n",
    "    return np.vstack(x_trajectory)\n",
    "\n",
    "# nb_output=15\n",
    "# a = poisson_pp.points\n",
    "# fig, ax= plt.subplots(figsize=(4,4))\n",
    "# for k in range(a.shape[0]):\n",
    "#     a_k = a[k]\n",
    "#     b  = starting_points(a_k, intenisty=estimated_intensity,nb_output=nb_output) \n",
    "#     color = np.random.rand(3,)\n",
    "#     for i in range(nb_output):\n",
    "#         c = trajectory(b[i], a, estimated_intensity, stepsize=0.0001, t_stop=800)\n",
    "#         ax.plot(c[:, 0], c[:, 1], c=color) \n",
    "#     ax.scatter(b[:,0], b[:,1], color=color, s=0.5)\n",
    "#     ax.plot(a_k[0], a_k[1], \"k*\")  \n",
    "# poisson_pp.plot(axis=ax)\n",
    "# plt.show()\n"
   ]
  },
  {
   "cell_type": "code",
   "execution_count": null,
   "id": "967f0ecc",
   "metadata": {},
   "outputs": [],
   "source": [
    "d = 2\n",
    "r = 5\n",
    "simu_window = BallWindow(center=[0]*d, radius=r)\n",
    "intensity = 1\n",
    "\n",
    "# list of poisson pp\n",
    "poisson = HomogeneousPoissonPointProcess(intensity)\n",
    "poisson_pp = poisson.generate_point_pattern(window=simu_window, seed=120) \n",
    "epsilon = epsilon_critical(d=d, intensity=intensity)\n",
    "print(\"Epsilon=\", epsilon, \", Nb_points=\", poisson_pp.points.shape[0])\n",
    "estimated_intensity =poisson_pp.points.shape[0]/simu_window.volume\n",
    "print(\"Intensity=\", intensity, \", Estimated intensity= \", intensity)"
   ]
  },
  {
   "cell_type": "code",
   "execution_count": null,
   "id": "5f74f0a0",
   "metadata": {},
   "outputs": [],
   "source": [
    "\n",
    "nb_points = 18 #number of points around each star\n",
    "stepsize = 0.001 #stepsize of the discetization scheme of the flow curves\n",
    "t_stop = 900 #stop time\n",
    "fig, ax= plt.subplots(figsize=(4,4))\n",
    "stars = poisson_pp.points #star for the gravitational allocation\n",
    "for k in range(stars.shape[0]):\n",
    "    points = starting_points(stars[k], \n",
    "                          intenisty=estimated_intensity,\n",
    "                          nb_output=nb_points)  #starting points around stars_k\n",
    "    color = np.random.rand(3,)*0.7 #color of the basin of stars_k\n",
    "    for i in range(nb_points):\n",
    "        points_t = trajectory(points[i], stars, estimated_intensity, stepsize=stepsize, t_stop=t_stop) #positions of point_i w.r.t. time\n",
    "        ax.plot(points_t[:, 0], points_t[:, 1], c=color, linewidth=1, zorder=0, rasterized=True) \n",
    "ax.scatter(stars[:,0], stars[:, 1], color=\"k\", s=5, zorder=5, label=\"PPP\") \n",
    "ax.set_xticks([])\n",
    "ax.set_yticks([])\n",
    "plt.legend()\n",
    "plt.tight_layout()\n",
    "plt.savefig(\"gravitational_allocation_to_poisson.pdf\")\n",
    "plt.show()\n"
   ]
  },
  {
   "cell_type": "code",
   "execution_count": null,
   "id": "0950621a",
   "metadata": {},
   "outputs": [],
   "source": [
    "# with end points\n",
    "nb_points = 18 #number of points around each star\n",
    "stepsize = 0.001 #stepsize of the discetization scheme of the flow curves\n",
    "t_stop = 1000 #stop time\n",
    "fig, ax= plt.subplots(figsize=(4,4))\n",
    "stars = poisson_pp.points #star for the gravitational allocation\n",
    "for k in range(stars.shape[0]):\n",
    "    points = starting_points(stars[k], \n",
    "                          intenisty=estimated_intensity,\n",
    "                          nb_output=nb_points)  #starting points around stars_k\n",
    "    color = np.random.rand(3,)*0.7 #color of the basin of stars_k\n",
    "    for i in range(nb_points):\n",
    "        points_t = trajectory(points[i], stars, estimated_intensity, stepsize=stepsize, t_stop=t_stop) #positions of point_i w.r.t. time\n",
    "        ax.plot(points_t[:, 0], points_t[:, 1], c=color, linewidth=1, zorder=0, rasterized=True) \n",
    "        ax.scatter(points_t[-1, 0], points_t[-1, 1], color=\"b\", s=2, zorder=10) #end points\n",
    "ax.scatter(stars[:,0], stars[:, 1], color=\"k\", s=5, zorder=5, label=\"PPP\") \n",
    "ax.set_xticks([])\n",
    "ax.set_yticks([])\n",
    "plt.legend()\n",
    "plt.tight_layout()\n",
    "plt.savefig(\"gravitational_allocation_to_poisson_with_end_points.pdf\")\n",
    "plt.show()\n"
   ]
  },
  {
   "cell_type": "markdown",
   "id": "761a1f53",
   "metadata": {},
   "source": [
    "# 2- Recursive repuslion of RPPP"
   ]
  },
  {
   "cell_type": "code",
   "execution_count": null,
   "id": "d6056532",
   "metadata": {},
   "outputs": [],
   "source": [
    "d = 2\n",
    "r = 20\n",
    "simu_window = BallWindow(center=[0]*d, radius=r)\n",
    "intensity = 1\n",
    "# list of poisson pp\n",
    "poisson = HomogeneousPoissonPointProcess(intensity)\n",
    "poisson_pp = poisson.generate_point_pattern(window=simu_window, seed=1) \n",
    "print(\"Epsilon=\", epsilon, \", Nb_points=\", poisson_pp.points.shape[0])\n"
   ]
  },
  {
   "cell_type": "code",
   "execution_count": null,
   "id": "978e56fd",
   "metadata": {},
   "outputs": [],
   "source": [
    "t = [10, 30, 50, 80, 100, 130, 150, 180, 200]\n",
    "\n",
    "# repelled pp\n",
    "rpp = RepelledPointProcess(poisson_pp)\n",
    "repelled = rpp.repelled_point_pattern()\n",
    "epsilon = epsilon_critical(d=d, intensity=intensity)\n",
    "print(\"Epsilon=\", epsilon)\n",
    "for t_stop in t:\n",
    "    repelled_t = rpp.repelled_point_pattern(stop_time=t_stop)\n",
    "    repelled_inverse_t = rpp.repelled_point_pattern(epsilon=-epsilon, stop_time=t_stop)\n",
    "    print(\"t=\", t_stop)\n",
    "    fig, ax = plt.subplots(1, 2, figsize=(12, 4))\n",
    "    simu_window.plot(axis=ax[0], color=\"grey\")\n",
    "    poisson_pp.plot(axis=ax[0], c=\"g\", s=0.1, label=r\"$t=0$\", rasterized=True)\n",
    "    repelled_inverse_t.plot(axis=ax[0], window=simu_window, c=\"b\", s=0.1, marker=\"*\", label=r\"$t=%d, \\varepsilon = -\\varepsilon_0$\"%t_stop, rasterized=True)\n",
    "    ax[0].legend()\n",
    "    ax[0].set_xticks([])\n",
    "    ax[0].set_yticks([])\n",
    "    simu_window.plot(axis=ax[1], color=\"grey\")\n",
    "    poisson_pp.plot(axis=ax[1], c=\"g\", s=0.1, label=r\"$t=0$\", rasterized=True)\n",
    "    repelled_t.plot(axis=ax[1], c=\"b\", s=0.1, label=r\"$t=%d, \\varepsilon=\\varepsilon_0$\"%t_stop, rasterized=True)\n",
    "    ax[1].legend()\n",
    "    ax[1].set_xticks([])\n",
    "    ax[1].set_yticks([])\n",
    "    plt.tight_layout()\n",
    "    plt.savefig(\"extreme_repelled_%d.pdf\" %t_stop)\n",
    "    plt.show()\n"
   ]
  },
  {
   "cell_type": "code",
   "execution_count": null,
   "id": "bd6a3048",
   "metadata": {},
   "outputs": [],
   "source": []
  },
  {
   "cell_type": "code",
   "execution_count": null,
   "id": "3a656752",
   "metadata": {},
   "outputs": [],
   "source": []
  },
  {
   "cell_type": "markdown",
   "id": "1751089a",
   "metadata": {},
   "source": []
  }
 ],
 "metadata": {
  "kernelspec": {
   "display_name": "Python 3 (ipykernel)",
   "language": "python",
   "name": "python3"
  },
  "language_info": {
   "codemirror_mode": {
    "name": "ipython",
    "version": 3
   },
   "file_extension": ".py",
   "mimetype": "text/x-python",
   "name": "python",
   "nbconvert_exporter": "python",
   "pygments_lexer": "ipython3",
   "version": "3.9.2"
  },
  "vscode": {
   "interpreter": {
    "hash": "58e2d5319d0a6af4c83e55d7d59910362c0f969daafa271eb61962ce015569f7"
   }
  }
 },
 "nbformat": 4,
 "nbformat_minor": 5
}
