{
 "cells": [
  {
   "cell_type": "markdown",
   "id": "f3aab61d",
   "metadata": {},
   "source": [
    "    1- test function\n",
    "    2- MC tests"
   ]
  },
  {
   "cell_type": "code",
   "execution_count": null,
   "id": "bf09a018",
   "metadata": {},
   "outputs": [],
   "source": [
    "import matplotlib as mpl\n",
    "import matplotlib.pyplot as plt\n",
    "import time\n",
    "import numpy as np\n",
    "import pickle\n",
    "\n",
    "# to delete this cell\n",
    "from IPython.display import display, HTML\n",
    "display(HTML(\"<style>.container { width:100% !important; }</style>\"))\n",
    "\n",
    "%load_ext autoreload\n",
    "%autoreload 2\n",
    "\n",
    "%config InlineBackend.figure_format='retina'\n",
    "import os\n",
    "import sys\n",
    "sys.path.insert(0, os.path.abspath('../src/'))\n",
    "\n",
    "import warnings\n",
    "warnings.filterwarnings('ignore')"
   ]
  },
  {
   "cell_type": "code",
   "execution_count": null,
   "id": "1979be83",
   "metadata": {},
   "outputs": [],
   "source": [
    "# make plots look nice\n",
    "plt.ticklabel_format(style='sci', axis='x', scilimits=(0,0))\n",
    "mpl.rcParams['xtick.labelsize'] = 10\n",
    "mpl.rcParams['ytick.labelsize'] = 10\n",
    "plt.rc('axes', labelsize=10)\n",
    "plt.rc('legend', fontsize=8)\n",
    "mpl.rcParams['ps.useafm'] = True\n",
    "mpl.rcParams['pdf.use14corefonts'] = True\n",
    "mpl.rcParams['text.usetex'] = True"
   ]
  },
  {
   "cell_type": "markdown",
   "id": "7a7b9c21",
   "metadata": {},
   "source": [
    "# 1- test function"
   ]
  },
  {
   "cell_type": "code",
   "execution_count": null,
   "id": "9fd0c6f4",
   "metadata": {},
   "outputs": [],
   "source": [
    "from GPPY.monte_carlo_test_functions import (f_1, f_2, f_3, f_4, f_5, f_6,\n",
    "                                             exact_integral_f_1, exact_integral_f_2,\n",
    "                                             exact_integral_f_3, exact_integral_f_4, \n",
    "                                             exact_integral_f_5,\n",
    "                                             exact_integral_f_6,\n",
    "                                             support_integrands)\n"
   ]
  },
  {
   "cell_type": "code",
   "execution_count": null,
   "id": "e03a7617",
   "metadata": {},
   "outputs": [],
   "source": [
    "nb_function=5\n",
    "for d in range(2,8):\n",
    "    print(\"for d={}\".format(d))\n",
    "    i_f = [{\"f_\"+str(i): globals()[\"exact_integral_f_{}\".format(i)](d)} for i in range(1,nb_function+1)]\n",
    "    print(\"Exact integral functions=\", i_f )"
   ]
  },
  {
   "cell_type": "code",
   "execution_count": null,
   "id": "305861c0",
   "metadata": {
    "scrolled": true
   },
   "outputs": [],
   "source": [
    "r=3/4 #radius observation window\n",
    "x = np.linspace(-r,r, 180)\n",
    "X, Y = np.meshgrid(x, x)\n",
    "points = np.array([X.ravel(), Y.ravel()]).T\n",
    "z_f_1 = f_1(points)\n",
    "z_f_2 = f_2(points)\n",
    "z_f_3 = f_3(points)\n",
    "z_f_4 = f_4(points)\n",
    "z_f_5 = f_5(points)\n",
    "z_f_6 = f_6(points)\n",
    "fig = plt.figure(figsize=(14, 4))\n",
    "ax = fig.add_subplot(2, 6, 1, projection='3d')\n",
    "ax.scatter3D(X.ravel(), Y.ravel(), z_f_1, c=z_f_1)\n",
    "ax.set_title(r\"$f_1$\")\n",
    "ax = fig.add_subplot(2, 6, 2, projection='3d')\n",
    "ax.scatter3D(X.ravel(), Y.ravel(), z_f_2, c=z_f_2)\n",
    "ax.set_title(r\"$f_2$\")\n",
    "ax = fig.add_subplot(2, 6, 3, projection='3d')\n",
    "ax.scatter3D(X.ravel(), Y.ravel(), z_f_3, c=z_f_3)\n",
    "ax.set_title(r\"$f_3$\")\n",
    "ax.view_init(-140, 60)\n",
    "ax = fig.add_subplot(2, 6, 4, projection='3d')\n",
    "ax.scatter3D(X.ravel(), Y.ravel(), z_f_4, c=z_f_4)\n",
    "ax.set_title(r\"$f_4$\")\n",
    "ax.view_init(40, 60)\n",
    "ax = fig.add_subplot(2, 6, 5, projection='3d')\n",
    "ax.scatter3D(X.ravel(), Y.ravel(), z_f_5, c=z_f_5)\n",
    "ax.set_title(r\"$f_5$\")\n",
    "ax.view_init(-140, 60)\n",
    "ax = fig.add_subplot(2, 6, 6, projection='3d')\n",
    "ax.scatter3D(X.ravel(), Y.ravel(), z_f_6, c=z_f_6)\n",
    "ax.set_title(r\"$f_6$\")\n",
    "plt.show()"
   ]
  },
  {
   "cell_type": "code",
   "execution_count": null,
   "id": "95fb4c6e",
   "metadata": {},
   "outputs": [],
   "source": [
    "r=1 #radius observation window\n",
    "x = np.atleast_2d(np.linspace(-r,r, 300)).T\n",
    "z_f_1 = f_1(x)\n",
    "z_f_2 = f_2(x)\n",
    "z_f_3 = f_3(x)\n",
    "z_f_4 = f_4(x)\n",
    "z_f_5 = f_5(x)\n",
    "z_f_6 = f_6(x)\n",
    "\n",
    "fig = plt.figure(figsize=(10, 3))\n",
    "ax = fig.add_subplot(2, 6, 1)\n",
    "ax.plot(x, z_f_1 )\n",
    "ax.set_title(r\"$f_1$\")\n",
    "ax = fig.add_subplot(2, 6, 2)\n",
    "ax.plot(x, z_f_2)\n",
    "ax.set_title(r\"$f_2$\")\n",
    "ax = fig.add_subplot(2, 6, 3)\n",
    "ax.plot(x,  z_f_3)\n",
    "ax.set_title(r\"$f_3$\")\n",
    "ax = fig.add_subplot(2, 6, 4)\n",
    "ax.plot( x, z_f_4)\n",
    "ax.set_title(r\"$f_4$\")\n",
    "ax = fig.add_subplot(2, 6, 5)\n",
    "ax.plot(x, z_f_5)\n",
    "ax.set_title(r\"$f_5$\")\n",
    "ax = fig.add_subplot(2, 6, 6)\n",
    "ax.plot(x, z_f_6)\n",
    "ax.set_title(r\"$f_6$\")\n",
    "plt.show()"
   ]
  },
  {
   "cell_type": "markdown",
   "id": "ebb2be70",
   "metadata": {},
   "source": [
    "# 2- MC tests "
   ]
  },
  {
   "cell_type": "code",
   "execution_count": null,
   "id": "c23bbf05",
   "metadata": {},
   "outputs": [],
   "source": [
    "import multiprocessing\n",
    "from GPPY.monte_carlo_tests_setup import (plot_mc_results, mc_results, \n",
    "                                          dataframe_mse_results,\n",
    "                                          dataframe_residual_test,\n",
    "                                          dataframe_error_test,\n",
    "                                          qq_plot_residual\n",
    "                                         )\n",
    "multiprocessing.cpu_count()"
   ]
  },
  {
   "cell_type": "code",
   "execution_count": null,
   "id": "d2daf095",
   "metadata": {},
   "outputs": [],
   "source": [
    "nb_sample=100\n",
    "nb_core = 70\n",
    "nb_point_list=np.arange(100, 1550, 50).tolist()\n",
    "print(len(nb_point_list), nb_point_list)\n",
    "fct_list = [f_1, f_2, f_3, f_4, f_5]\n",
    "fct_names = [\"f_1\", \"f_2\", \"f_3\", \"f_4\", \"f_5\"]\n",
    "estimators = [\"MC\", \n",
    "              \"MCP\",\n",
    "              \"MCCV\",\n",
    "              \"MCDPP\",\n",
    "              \"RQMC\"]"
   ]
  },
  {
   "cell_type": "markdown",
   "id": "937b2bda",
   "metadata": {},
   "source": [
    "### For d=2"
   ]
  },
  {
   "cell_type": "code",
   "execution_count": null,
   "id": "3c57a61c",
   "metadata": {},
   "outputs": [],
   "source": [
    "d=2\n",
    "exact_integrals= [exact_integral_f_1(d), \n",
    "                  exact_integral_f_2(d),\n",
    "                  exact_integral_f_3(d), exact_integral_f_4(d), \n",
    "                  exact_integral_f_5(d)]\n",
    "support_window = support_integrands(d) "
   ]
  },
  {
   "cell_type": "code",
   "execution_count": null,
   "id": "c1820e50",
   "metadata": {
    "scrolled": true
   },
   "outputs": [],
   "source": [
    "if __name__ == \"__main__\":\n",
    "    mc_results_2d, nb_point_2d = mc_results(d, nb_point_list, nb_sample=nb_sample,\n",
    "                                             support_window=support_window,\n",
    "                                            fct_list=fct_list,\n",
    "                                            fct_names=fct_names,\n",
    "                                            exact_integrals=exact_integrals,\n",
    "                                            estimators=estimators, \n",
    "                                            core_number=nb_core,\n",
    "                                            file_name=\"mc_results_2d.pickle\"\n",
    "                                            )"
   ]
  },
  {
   "cell_type": "code",
   "execution_count": null,
   "id": "c533ee4a",
   "metadata": {},
   "outputs": [],
   "source": [
    "dataframe_mse_results(mc_results=mc_results_2d,\n",
    "                      fct_names=fct_names, \n",
    "                      exact_integrals=exact_integrals, \n",
    "                      nb_sample=nb_sample)"
   ]
  },
  {
   "cell_type": "code",
   "execution_count": null,
   "id": "aac0c875",
   "metadata": {},
   "outputs": [],
   "source": [
    "\n",
    "with open('mc_results_2d.pickle', 'wb') as handle:\n",
    "    pickle.dump(mc_results_2d, handle, protocol=pickle.HIGHEST_PROTOCOL)"
   ]
  },
  {
   "cell_type": "code",
   "execution_count": null,
   "id": "66fbb38c",
   "metadata": {},
   "outputs": [],
   "source": [
    "# load saved data\n",
    "with open('mc_results_2d.pickle', 'rb') as file:\n",
    "    mc_results_2d = pickle.load(file)"
   ]
  },
  {
   "cell_type": "markdown",
   "id": "6c2169ce",
   "metadata": {},
   "source": [
    "#### Variance study"
   ]
  },
  {
   "cell_type": "code",
   "execution_count": null,
   "id": "68293de0",
   "metadata": {
    "scrolled": true
   },
   "outputs": [],
   "source": [
    "plot_mc_results(d, mc_results_2d, nb_point_list, \n",
    "                fct_list=fct_list, \n",
    "                fct_names=fct_names,\n",
    "                log_scale=False, \n",
    "                #save_fig=\"mc_2_d.pdf\"\n",
    "               )"
   ]
  },
  {
   "cell_type": "code",
   "execution_count": null,
   "id": "3e99c418",
   "metadata": {
    "scrolled": true
   },
   "outputs": [],
   "source": [
    "print(\"Normality test of residuals of the linear regression:\")\n",
    "dataframe_residual_test(mc_list=mc_results_2d, \n",
    "                        nb_point_list=nb_point_list, \n",
    "                        fct_names=fct_names, \n",
    "                        test_type=\"SW\")"
   ]
  },
  {
   "cell_type": "code",
   "execution_count": null,
   "id": "ac119328",
   "metadata": {
    "scrolled": true
   },
   "outputs": [],
   "source": [
    "qq_plot_residual(mc_list=mc_results_2d, \n",
    "                        nb_point_list=nb_point_list, \n",
    "                        fct_names=fct_names,\n",
    "                save_fig=\"qq_plot_2d.pdf\")"
   ]
  },
  {
   "cell_type": "code",
   "execution_count": null,
   "id": "22ed7c79",
   "metadata": {},
   "outputs": [],
   "source": [
    "# Q-Q plot\n",
    "import statsmodels.api as sm\n",
    "import matplotlib.pyplot as plt\n",
    "\n",
    "# Create a Q-Q plot\n",
    "fig, ax = plt.subplots(figsize=(5, 5))\n",
    "sm.qqplot(x, line='45', ax=ax)\n",
    "\n",
    "# Customize the plot\n",
    "ax.set_title('Normal Q-Q Plot')\n",
    "ax.set_xlabel('Theoretical Quantiles')\n",
    "ax.set_ylabel('Sample Quantiles')\n",
    "ax.grid(True)\n",
    "\n",
    "# Show the plot\n",
    "plt.show()\n"
   ]
  },
  {
   "cell_type": "code",
   "execution_count": null,
   "id": "a55d82f8",
   "metadata": {},
   "outputs": [],
   "source": []
  },
  {
   "cell_type": "markdown",
   "id": "16f7b61a",
   "metadata": {},
   "source": [
    "#### Error study"
   ]
  },
  {
   "cell_type": "code",
   "execution_count": null,
   "id": "a373bcbb",
   "metadata": {},
   "outputs": [],
   "source": [
    "plot_mc_results(d, mc_results_2d, nb_point_list, nb_sample, \n",
    "                fct_list=fct_list, \n",
    "                fct_names=fct_names,\n",
    "                error_type=\"Error\",\n",
    "                plot_error=True,\n",
    "                plot_std=False,\n",
    "                log_scale=False,\n",
    "                #save_fig=\"mc_2_d.pdf\"\n",
    "               )"
   ]
  },
  {
   "cell_type": "code",
   "execution_count": null,
   "id": "e137517c",
   "metadata": {},
   "outputs": [],
   "source": [
    "for name in fct_names:\n",
    "    print(\"For \"+ name + \":\")\n",
    "    df_error = dataframe_error_test(mc_results_2d, nb_point_list, \n",
    "                     fct_name=name,\n",
    "                     type_mc_test=\"MCP\")\n",
    "    display(df_error)"
   ]
  },
  {
   "cell_type": "markdown",
   "id": "52a84ac3",
   "metadata": {},
   "source": [
    "### For d=3"
   ]
  },
  {
   "cell_type": "code",
   "execution_count": null,
   "id": "e7479864",
   "metadata": {},
   "outputs": [],
   "source": [
    "estimators = [\"MC\", \n",
    "              \"MCP\",\n",
    "              \"MCCV\",\n",
    "              \"MCDPP\",\n",
    "              \"RQMC\"]"
   ]
  },
  {
   "cell_type": "code",
   "execution_count": null,
   "id": "93806b65",
   "metadata": {},
   "outputs": [],
   "source": [
    "d=3\n",
    "exact_integrals= [exact_integral_f_1(d), exact_integral_f_2(d),\n",
    "                  exact_integral_f_3(d), exact_integral_f_4(d), \n",
    "                  exact_integral_f_5(d)]\n",
    "support_window = support_integrands(d) \n",
    "if __name__ == \"__main__\":\n",
    "    mc_results_3d, nb_point_3d = mc_results(d, nb_point_list, \n",
    "                                            nb_sample=nb_sample,\n",
    "                                             support_window=support_window,\n",
    "                                            fct_list=fct_list,\n",
    "                                            fct_names=fct_names,\n",
    "                                            exact_integrals=exact_integrals,\n",
    "                                            estimators=estimators, \n",
    "                                            core_number=nb_core)"
   ]
  },
  {
   "cell_type": "code",
   "execution_count": null,
   "id": "b945cae2",
   "metadata": {},
   "outputs": [],
   "source": [
    "for name in fct_names:\n",
    "    print(\"For \"+ name + \":\")\n",
    "    df_error = dataframe_error_test(mc_results_3d, nb_point_list, \n",
    "                     fct_name=name,\n",
    "                     type_mc_test=\"MCP\")\n",
    "    display(df_error)"
   ]
  },
  {
   "cell_type": "markdown",
   "id": "2d567ac8",
   "metadata": {},
   "source": [
    "#### variance study"
   ]
  },
  {
   "cell_type": "code",
   "execution_count": null,
   "id": "124cec31",
   "metadata": {},
   "outputs": [],
   "source": [
    "plot_mc_results(d, mc_results_3d, nb_point_list, nb_sample, \n",
    "                fct_list=fct_list, \n",
    "                fct_names=fct_names,\n",
    "                log_scale=False, \n",
    "                #save_fig=\"mc_3_d.pdf\"\n",
    "               )"
   ]
  },
  {
   "cell_type": "code",
   "execution_count": null,
   "id": "7f2e8324",
   "metadata": {},
   "outputs": [],
   "source": [
    "print(\"Normality test of residuals of the linear regression:\")\n",
    "dataframe_residual_test(mc_list=mc_results_3d, \n",
    "                        nb_point_list=nb_point_list, \n",
    "                        fct_names=fct_names, \n",
    "                        test_type=\"SW\")"
   ]
  },
  {
   "cell_type": "code",
   "execution_count": null,
   "id": "a59e647f",
   "metadata": {},
   "outputs": [],
   "source": [
    "qq_plot_residual(mc_list=mc_results_3d, \n",
    "                        nb_point_list=nb_point_list, \n",
    "                        fct_names=fct_names,\n",
    "                save_fig=\"qq_plot_3d.pdf\")"
   ]
  },
  {
   "cell_type": "markdown",
   "id": "1624cc62",
   "metadata": {},
   "source": [
    "#### Error study"
   ]
  },
  {
   "cell_type": "code",
   "execution_count": null,
   "id": "8831ba8e",
   "metadata": {},
   "outputs": [],
   "source": [
    "plot_mc_results(d, mc_results_3d, nb_point_list, nb_sample, \n",
    "                fct_list=fct_list, \n",
    "                fct_names=fct_names,\n",
    "                error_type=\"Error\",\n",
    "                plot_error=True,\n",
    "                plot_std=False,\n",
    "                log_scale=False,\n",
    "                #save_fig=\"mc_2_d.pdf\"\n",
    "               )"
   ]
  },
  {
   "cell_type": "code",
   "execution_count": null,
   "id": "bbfa56c8",
   "metadata": {},
   "outputs": [],
   "source": [
    "dataframe_error_test(mc_results_4d, nb_point_list, \n",
    "                     fct_name=fct_names,\n",
    "                     type_mc_test=\"MCP\")"
   ]
  },
  {
   "cell_type": "code",
   "execution_count": null,
   "id": "6a59deac",
   "metadata": {},
   "outputs": [],
   "source": []
  },
  {
   "cell_type": "markdown",
   "id": "dec83210",
   "metadata": {},
   "source": [
    "### For d=4"
   ]
  },
  {
   "cell_type": "code",
   "execution_count": null,
   "id": "fcad2945",
   "metadata": {},
   "outputs": [],
   "source": [
    "d=4\n",
    "exact_integrals= [exact_integral_f_1(d), exact_integral_f_2(d),\n",
    "                  exact_integral_f_3(d), exact_integral_f_4(d), \n",
    "                  exact_integral_f_5(d)]\n",
    "support_window = support_integrands(d) \n",
    "if __name__ == \"__main__\":\n",
    "    mc_results_4d, nb_point_4d = mc_results(d, nb_point_list, nb_sample=nb_sample,\n",
    "                                             support_window=support_window,\n",
    "                                            fct_list=fct_list,\n",
    "                                            fct_names=fct_names,\n",
    "                                            exact_integrals=exact_integrals,\n",
    "                                            estimators=estimators, \n",
    "                                            core_number=nb_core)"
   ]
  },
  {
   "cell_type": "code",
   "execution_count": null,
   "id": "dae7b101",
   "metadata": {},
   "outputs": [],
   "source": [
    "dataframe_mse_results(mc_results=mc_results_4d,\n",
    "                      fct_names=fct_names, \n",
    "                      exact_integrals=exact_integrals, \n",
    "                      nb_sample=nb_sample)"
   ]
  },
  {
   "cell_type": "markdown",
   "id": "67edd662",
   "metadata": {},
   "source": [
    "#### Variance study"
   ]
  },
  {
   "cell_type": "code",
   "execution_count": null,
   "id": "c308a249",
   "metadata": {},
   "outputs": [],
   "source": [
    "plot_mc_results(d, mc_results_4d, nb_point_list, nb_sample, \n",
    "                fct_list=fct_list, \n",
    "                fct_names=fct_names,\n",
    "                log_scale=False, \n",
    "                #save_fig=\"mc_4_d.pdf\"\n",
    "               )"
   ]
  },
  {
   "cell_type": "code",
   "execution_count": null,
   "id": "97b8b068",
   "metadata": {},
   "outputs": [],
   "source": [
    "print(\"Normality test of residuals of the linear regression:\")\n",
    "dataframe_residual_test(mc_list=mc_results_4d, \n",
    "                        nb_point_list=nb_point_list, \n",
    "                        fct_names=fct_names, \n",
    "                        test_type=\"SW\")"
   ]
  },
  {
   "cell_type": "code",
   "execution_count": null,
   "id": "fc989ab5",
   "metadata": {},
   "outputs": [],
   "source": [
    "qq_plot_residual(mc_list=mc_results_4d, \n",
    "                        nb_point_list=nb_point_list, \n",
    "                        fct_names=fct_names,\n",
    "                save_fig=\"qq_plot_4d.pdf\")"
   ]
  },
  {
   "cell_type": "markdown",
   "id": "509f785c",
   "metadata": {},
   "source": [
    "#### Error study"
   ]
  },
  {
   "cell_type": "code",
   "execution_count": null,
   "id": "ca7c25d5",
   "metadata": {},
   "outputs": [],
   "source": [
    "\n",
    "plot_mc_results(d, mc_results_4d, nb_point_list, nb_sample, \n",
    "                fct_list=fct_list, \n",
    "                fct_names=fct_names,\n",
    "                error_type=\"Error\",\n",
    "                plot_error=True,\n",
    "                plot_std=False,\n",
    "                log_scale=False,\n",
    "                #save_fig=\"mc_4_d.pdf\"\n",
    "               )"
   ]
  },
  {
   "cell_type": "code",
   "execution_count": null,
   "id": "bf1590ce",
   "metadata": {},
   "outputs": [],
   "source": [
    "for name in fct_names:\n",
    "    print(\"For \"+ name + \":\")\n",
    "    df_error = dataframe_error_test(mc_results_4d, nb_point_list, \n",
    "                     fct_name=name,\n",
    "                     type_mc_test=\"MCP\")\n",
    "    display(df_error)"
   ]
  },
  {
   "cell_type": "code",
   "execution_count": null,
   "id": "c4cf9c71",
   "metadata": {},
   "outputs": [],
   "source": []
  },
  {
   "cell_type": "code",
   "execution_count": null,
   "id": "93d5e2eb",
   "metadata": {},
   "outputs": [],
   "source": [
    "# accelrating computational time by reducing the points used to push in B(0,R) from B(0, 2R)\n",
    "# into B(0, R + add_r_push)\n",
    "if __name__ == \"__main__\":\n",
    "    mc_results_4d, nb_point_4d = mc_results(d, nb_point_list, nb_sample=nb_sample,\n",
    "                                             support_window=support_window,\n",
    "                                            fct_list=fct_list,\n",
    "                                            fct_names=fct_names,\n",
    "                                            exact_integrals=exact_integrals,\n",
    "                                            estimators=estimators, \n",
    "                                            core_number=nb_core, \n",
    "                                           add_r_push=0.2)\n"
   ]
  },
  {
   "cell_type": "code",
   "execution_count": null,
   "id": "4dce8fe6",
   "metadata": {},
   "outputs": [],
   "source": [
    "dataframe_mse_results(mc_results=mc_results_4d,\n",
    "                      fct_names=fct_names, \n",
    "                      exact_integrals=exact_integrals, \n",
    "                      nb_sample=nb_sample)"
   ]
  },
  {
   "cell_type": "code",
   "execution_count": null,
   "id": "71520609",
   "metadata": {},
   "outputs": [],
   "source": []
  },
  {
   "cell_type": "code",
   "execution_count": null,
   "id": "af04f5f2",
   "metadata": {},
   "outputs": [],
   "source": []
  },
  {
   "cell_type": "code",
   "execution_count": null,
   "id": "90d31bf7",
   "metadata": {},
   "outputs": [],
   "source": []
  },
  {
   "cell_type": "code",
   "execution_count": null,
   "id": "7e9f8c71",
   "metadata": {},
   "outputs": [],
   "source": []
  },
  {
   "cell_type": "code",
   "execution_count": null,
   "id": "291b59fb",
   "metadata": {},
   "outputs": [],
   "source": []
  },
  {
   "cell_type": "code",
   "execution_count": null,
   "id": "62804af6",
   "metadata": {},
   "outputs": [],
   "source": []
  },
  {
   "cell_type": "code",
   "execution_count": null,
   "id": "e28141ef",
   "metadata": {},
   "outputs": [],
   "source": []
  },
  {
   "cell_type": "code",
   "execution_count": null,
   "id": "4a05e337",
   "metadata": {},
   "outputs": [],
   "source": []
  }
 ],
 "metadata": {
  "kernelspec": {
   "display_name": "Python 3 (ipykernel)",
   "language": "python",
   "name": "python3"
  },
  "language_info": {
   "codemirror_mode": {
    "name": "ipython",
    "version": 3
   },
   "file_extension": ".py",
   "mimetype": "text/x-python",
   "name": "python",
   "nbconvert_exporter": "python",
   "pygments_lexer": "ipython3",
   "version": "3.9.8"
  },
  "vscode": {
   "interpreter": {
    "hash": "a8c0ac4e893b1046d36aa475b5063b5f32b19820e049035f5b4d463e9b9d3898"
   }
  }
 },
 "nbformat": 4,
 "nbformat_minor": 5
}
