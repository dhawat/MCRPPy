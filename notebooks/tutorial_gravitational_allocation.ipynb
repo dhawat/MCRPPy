{
 "cells": [
  {
   "cell_type": "markdown",
   "id": "3651eecd",
   "metadata": {},
   "source": [
    "# Gravitational allocation-illustration"
   ]
  },
  {
   "cell_type": "code",
   "execution_count": null,
   "id": "c13b5b55",
   "metadata": {},
   "outputs": [],
   "source": [
    "from IPython.display import display, HTML\n",
    "display(HTML(\"<style>.container { width:100% !important; }</style>\"))\n",
    "\n",
    "%load_ext autoreload\n",
    "%autoreload 2\n",
    "\n",
    "%config InlineBackend.figure_format='retina'\n",
    "import os\n",
    "import sys\n",
    "sys.path.insert(0, os.path.abspath('../src/'))"
   ]
  },
  {
   "cell_type": "code",
   "execution_count": null,
   "id": "5996e9fd",
   "metadata": {},
   "outputs": [],
   "source": [
    "import math"
   ]
  },
  {
   "cell_type": "markdown",
   "id": "3b698713",
   "metadata": {},
   "source": [
    "# 1- Gravitational allocation to Poisson"
   ]
  },
  {
   "cell_type": "code",
   "execution_count": null,
   "id": "e7302d39",
   "metadata": {},
   "outputs": [],
   "source": [
    "from mcrppy.spatial_windows import BallWindow\n",
    "from mcrppy.point_processes import HomogeneousPoissonPointProcess\n",
    "\n",
    "d = 2\n",
    "r = 10\n",
    "window = BallWindow(center=[0]*d, radius=r)\n",
    "intensity = 1/math.pi\n",
    "\n",
    "#poisson pp\n",
    "poisson = HomogeneousPoissonPointProcess(intensity)\n",
    "poisson_pp = poisson.generate_point_pattern(window=window, seed=120) \n",
    "poisson_pp.plot()"
   ]
  },
  {
   "cell_type": "code",
   "execution_count": null,
   "id": "aa39d095",
   "metadata": {},
   "outputs": [],
   "source": [
    "from mcrppy.gravitational_allocation import GravitationalAllocation\n",
    "\n",
    "poisson_ga = GravitationalAllocation(poisson_pp)\n",
    "poisson_ga.plot_2D(stepsize=0.005,\n",
    "                   stoptime=900,\n",
    "                   label_centers=\"Poisson\",\n",
    "                   file_name=\"poisson_allocation.pdf\")"
   ]
  },
  {
   "cell_type": "code",
   "execution_count": null,
   "id": "cb13649a",
   "metadata": {},
   "outputs": [],
   "source": [
    "#with end trajectories\n",
    "poisson_ga.plot_2D(end_trajectories=True,\n",
    "                   stepsize=0.001, #discretization stepsize\n",
    "                   stoptime=800 #stoptime of the discretization scheme\n",
    "                  )"
   ]
  },
  {
   "cell_type": "markdown",
   "id": "af1856e5",
   "metadata": {},
   "source": [
    "# 2- Gravitational allocation to Ginibre"
   ]
  },
  {
   "cell_type": "code",
   "execution_count": null,
   "id": "13bd14ed",
   "metadata": {},
   "outputs": [],
   "source": [
    "import matplotlib.pyplot as plt\n",
    "\n",
    "from mcrppy.point_processes import GinibrePointProcess\n",
    "from mcrppy.spatial_windows import BallWindow\n",
    "\n",
    "ginibre = GinibrePointProcess()\n",
    "window = BallWindow(center=[0, 0], radius=10)\n",
    "ginibre_pp = ginibre.generate_point_pattern(window=window)\n",
    "ginibre_pp.plot()\n"
   ]
  },
  {
   "cell_type": "code",
   "execution_count": null,
   "id": "32f35052",
   "metadata": {},
   "outputs": [],
   "source": [
    "ginibre_ga = GravitationalAllocation(ginibre_pp)\n",
    "ginibre_ga.plot_2D(stepsize=0.005,\n",
    "                   stoptime=900,\n",
    "                   label_centers=\"Ginibre\",\n",
    "                   file_name=\"ginibre_allocation.pdf\")"
   ]
  },
  {
   "cell_type": "code",
   "execution_count": null,
   "id": "fd7aa37f",
   "metadata": {},
   "outputs": [],
   "source": [
    "ginibre_ga.plot_2D(stepsize=0.005,\n",
    "                   stoptime=900,\n",
    "                   end_trajectories=True,\n",
    "                   file_name=\"ginibre_allocation_with_end_points.pdf\")"
   ]
  },
  {
   "cell_type": "code",
   "execution_count": null,
   "id": "5163916c",
   "metadata": {},
   "outputs": [],
   "source": []
  }
 ],
 "metadata": {
  "kernelspec": {
   "display_name": "Python 3 (ipykernel)",
   "language": "python",
   "name": "python3"
  },
  "language_info": {
   "codemirror_mode": {
    "name": "ipython",
    "version": 3
   },
   "file_extension": ".py",
   "mimetype": "text/x-python",
   "name": "python",
   "nbconvert_exporter": "python",
   "pygments_lexer": "ipython3",
   "version": "3.9.2"
  }
 },
 "nbformat": 4,
 "nbformat_minor": 5
}
