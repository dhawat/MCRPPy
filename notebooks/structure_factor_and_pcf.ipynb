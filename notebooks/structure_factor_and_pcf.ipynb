{
 "cells": [
  {
   "cell_type": "markdown",
   "metadata": {},
   "source": [
    "This notebook aims estimating the structure factor and the pair correlation function of the Pushed Poisson point process"
   ]
  },
  {
   "cell_type": "code",
   "execution_count": null,
   "metadata": {},
   "outputs": [],
   "source": [
    "import matplotlib as mpl\n",
    "import matplotlib.pyplot as plt\n",
    "import time\n",
    "\n",
    "# make plots look nice\n",
    "plt.ticklabel_format(style='sci', axis='x', scilimits=(0,0))\n",
    "mpl.rcParams['xtick.labelsize'] = 10\n",
    "mpl.rcParams['ytick.labelsize'] = 12\n",
    "plt.rc('axes', labelsize=22)\n",
    "plt.rc('legend', fontsize=12)\n",
    "mpl.rcParams['ps.useafm'] = True\n",
    "mpl.rcParams['pdf.use14corefonts'] = True\n",
    "mpl.rcParams['text.usetex'] = True\n",
    "\n",
    "# to delete this cell\n",
    "from IPython.display import display, HTML\n",
    "display(HTML(\"<style>.container { width:100% !important; }</style>\"))\n",
    "\n",
    "%load_ext autoreload\n",
    "%autoreload 2\n",
    "\n",
    "%config InlineBackend.figure_format='retina'\n",
    "import os\n",
    "import sys\n",
    "sys.path.insert(0, os.path.abspath('../src/'))"
   ]
  },
  {
   "cell_type": "code",
   "execution_count": null,
   "metadata": {},
   "outputs": [],
   "source": [
    "from GPPY.spatial_windows import BallWindow, BoxWindow\n",
    "from GPPY.point_processes import HomogeneousPoissonPointProcess\n",
    "from GPPY.gravity_point_process import GravityPointProcess\n",
    "import numpy as np\n"
   ]
  },
  {
   "cell_type": "code",
   "execution_count": null,
   "metadata": {},
   "outputs": [],
   "source": [
    "from GPPY.point_pattern import PointPattern\n",
    "from GPPY.spatial_windows import BoxWindow, BallWindow\n",
    "import structure_factor\n",
    "import os\n",
    "import sys\n",
    "sys.path.insert(0, os.path.abspath('../../../structure-factor/src/'))\n",
    "\n",
    "def from_gppy_to_structure_factor_object(point_pattern):\n",
    "    if isinstance(point_pattern.window, BallWindow):\n",
    "        window = structure_factor.spatial_windows.BallWindow(center=point_pattern.window.center,\n",
    "                    radius=point_pattern.window.radius)\n",
    "    else:\n",
    "        print( type(point_pattern.window))\n",
    "        window = structure_factor.spatial_windows.BoxWindow(bounds=point_pattern.window.bounds)\n",
    "    sf_object= structure_factor.point_pattern.PointPattern(\n",
    "        points=point_pattern.points, \n",
    "        window=window,\n",
    "        intensity=point_pattern.intensity)\n",
    "    return sf_object.restrict_to_window(window=window)"
   ]
  },
  {
   "cell_type": "markdown",
   "metadata": {},
   "source": [
    "# 1- d=2"
   ]
  },
  {
   "cell_type": "code",
   "execution_count": null,
   "metadata": {},
   "outputs": [],
   "source": [
    "d = 2\n",
    "r=100\n",
    "simu_window = BallWindow(center=[0]*d, radius=r)\n",
    "intensity = 1\n",
    "# list of poisson pp\n",
    "poisson = HomogeneousPoissonPointProcess(intensity)\n",
    "poisson_pp = poisson.generate_point_pattern(window=simu_window, seed=1) \n",
    "print(\"Nb points=\", poisson_pp.points.shape[0])\n",
    "gppy = GravityPointProcess(poisson_pp)\n",
    "push_pp = gppy.pushed_point_pattern()\n",
    "epsilon = gppy.epsilon_critical\n"
   ]
  },
  {
   "cell_type": "code",
   "execution_count": null,
   "metadata": {},
   "outputs": [],
   "source": [
    "fig, ax = plt.subplots(1, 2, figsize=(16, 4))\n",
    "simu_window.plot(axis=ax[0], color=\"grey\")\n",
    "poisson_pp.plot(axis=ax[0], s=0.1)\n",
    "simu_window.plot(axis=ax[1], color=\"grey\")\n",
    "push_pp.plot(axis=ax[1], s=0.1)\n",
    "#plt.savefig(\"poisson_and_push_and_force.pdf\")\n",
    "plt.show()"
   ]
  },
  {
   "cell_type": "code",
   "execution_count": null,
   "metadata": {},
   "outputs": [],
   "source": [
    "push_pp_sf = from_gppy_to_structure_factor_object(push_pp)"
   ]
  },
  {
   "attachments": {},
   "cell_type": "markdown",
   "metadata": {},
   "source": [
    "## 1.1 Structure Factor"
   ]
  },
  {
   "cell_type": "code",
   "execution_count": null,
   "metadata": {},
   "outputs": [],
   "source": [
    "from structure_factor.structure_factor import StructureFactor\n",
    "sf_isotropic = StructureFactor(push_pp_sf)\n"
   ]
  },
  {
   "cell_type": "code",
   "execution_count": null,
   "metadata": {},
   "outputs": [],
   "source": [
    "# Bartlett's isotropic estimator on allowed wavenumbers\n",
    "# Running time = 156 s\n",
    "import time\n",
    "\n",
    "start_time = time.time()\n",
    "k_norm_allowed, s_bi_k_norm_allowed = sf_isotropic.bartlett_isotropic_estimator(nb_values=60)\n",
    "print(\"--- %s seconds ---\" % (time.time() - start_time))\n",
    "\n",
    "#Plot\n",
    "fig, axis = plt.subplots(figsize=(7,6))\n",
    "sf_isotropic.plot_isotropic_estimator(k_norm_allowed, s_bi_k_norm_allowed, \n",
    "                                         axis=axis,\n",
    "                                         label=r\"$\\widehat{S}$\")"
   ]
  },
  {
   "attachments": {},
   "cell_type": "markdown",
   "metadata": {},
   "source": [
    "## 1.2 Pair correlation function"
   ]
  },
  {
   "cell_type": "code",
   "execution_count": null,
   "metadata": {},
   "outputs": [],
   "source": [
    "# pcf.fv\n",
    "import structure_factor.pair_correlation_function as pcf\n",
    "\n",
    "pcf_fv = pcf.estimate(push_pp_sf, # PointPattern \n",
    "                      method=\"fv\", # Estimation method (could be \"ppp\" or \"fv\")\n",
    "                      Kest=dict(rmax=5), # Maximal estimation radius \n",
    "                      fv=dict(method=\"b\", spar=0.2) # Correction method and sparsity\n",
    "                             )\n",
    "\n"
   ]
  },
  {
   "cell_type": "code",
   "execution_count": null,
   "metadata": {},
   "outputs": [],
   "source": [
    "epsilon"
   ]
  },
  {
   "cell_type": "code",
   "execution_count": null,
   "metadata": {},
   "outputs": [],
   "source": [
    "# Plot\n",
    "fig, axis = plt.subplots(figsize=(5,4))\n",
    "axis.plot(pcf_fv[\"r\"], pcf_fv[\"pcf\"], \"b.\", label=\"Push\")\n",
    "axis.plot(pcf_fv[\"r\"], pcf_fv[\"pcf\"], \"b\")\n",
    "axis.plot(pcf_fv[\"r\"], np.ones_like(pcf_fv[\"r\"]), \"k\", label=\"Poisson\")\n",
    "axis.vlines(epsilon, ymin=0, ymax=1.2, \n",
    "             colors=\"red\", linestyles='dashed', label=r\"$\\varepsilon_0$\")\n",
    "axis.legend()\n",
    "plt.tight_layout()\n",
    "plt.show()"
   ]
  },
  {
   "cell_type": "markdown",
   "metadata": {},
   "source": [
    "# 2- d=3"
   ]
  },
  {
   "cell_type": "code",
   "execution_count": null,
   "metadata": {},
   "outputs": [],
   "source": [
    "d = 3\n",
    "r=50\n",
    "simu_window = BallWindow(center=[0]*d, radius=r)\n",
    "intensity = 1\n",
    "# list of poisson pp\n",
    "poisson = HomogeneousPoissonPointProcess(intensity)\n",
    "poisson_pp = poisson.generate_point_pattern(window=simu_window, seed=1) \n",
    "print(\"Nb points=\", poisson_pp.points.shape[0])\n",
    "gppy = GravityPointProcess(poisson_pp)\n",
    "push_pp = gppy.pushed_point_pattern(core_number=5)\n"
   ]
  },
  {
   "cell_type": "code",
   "execution_count": null,
   "metadata": {},
   "outputs": [],
   "source": [
    "push_pp_sf_3d = from_gppy_to_structure_factor_object(push_pp)\n",
    "epsilon_3d = gppy.epsilon_critical"
   ]
  },
  {
   "cell_type": "markdown",
   "metadata": {},
   "source": [
    "## 2.1- Structure factor"
   ]
  },
  {
   "cell_type": "code",
   "execution_count": null,
   "metadata": {},
   "outputs": [],
   "source": [
    "from structure_factor.structure_factor import StructureFactor\n",
    "sf_isotropic_3d = StructureFactor(push_pp_sf_3d)\n"
   ]
  },
  {
   "cell_type": "code",
   "execution_count": null,
   "metadata": {},
   "outputs": [],
   "source": [
    "# Bartlett's isotropic estimator on allowed wavenumbers\n",
    "# Running time = 156 s\n",
    "import time\n",
    "\n",
    "start_time = time.time()\n",
    "k_norm_allowed_3d, s_bi_k_norm_allowed_3d = sf_isotropic_3d.bartlett_isotropic_estimator(nb_values=60)\n",
    "print(\"--- %s seconds ---\" % (time.time() - start_time))\n",
    "\n",
    "#Plot\n",
    "fig, axis = plt.subplots(figsize=(7,6))\n",
    "sf_isotropic.plot_isotropic_estimator(k_norm_allowed_3d, \n",
    "                                      s_bi_k_norm_allowed_3d, \n",
    "                                         axis=axis,\n",
    "                                         label=r\"$\\widehat{S}$\")"
   ]
  },
  {
   "cell_type": "markdown",
   "metadata": {},
   "source": [
    "## 2.2- Pair correlation function"
   ]
  },
  {
   "cell_type": "code",
   "execution_count": null,
   "metadata": {},
   "outputs": [],
   "source": [
    "# pcf.fv\n",
    "import structure_factor.pair_correlation_function as pcf\n",
    "\n",
    "pcf_fv_3d = pcf.estimate(push_pp_sf_3d, # PointPattern \n",
    "                      method=\"fv\", # Estimation method (could be \"ppp\" or \"fv\")\n",
    "                      Kest=dict(rmax=5), # Maximal estimation radius \n",
    "                      fv=dict(method=\"b\", spar=0.2) # Correction method and sparsity\n",
    "                             )\n",
    "\n",
    "# Plot\n",
    "fig, axis = plt.subplots(figsize=(7,4))\n",
    "pcf.plot(pcf_fv_3d,  \n",
    "         axis=axis,\n",
    "         figsize=(7,6), \n",
    "         color=['grey'], \n",
    "         style=[\".\"]\n",
    "        )\n",
    "axis.vlines(epsilon_3d, ymin=min(pcf_fv), ymax=max(pcf_fv), \n",
    "             colors=\"grey\", linestyles='dashed', label=r\"$\\varepsilon_0$\")\n",
    "plt.tight_layout()\n",
    "plt.show()"
   ]
  }
 ],
 "metadata": {
  "kernelspec": {
   "display_name": "gppy-NPWlgsrS-py3.9",
   "language": "python",
   "name": "python3"
  },
  "language_info": {
   "codemirror_mode": {
    "name": "ipython",
    "version": 3
   },
   "file_extension": ".py",
   "mimetype": "text/x-python",
   "name": "python",
   "nbconvert_exporter": "python",
   "pygments_lexer": "ipython3",
   "version": "3.9.2"
  },
  "orig_nbformat": 4
 },
 "nbformat": 4,
 "nbformat_minor": 2
}
