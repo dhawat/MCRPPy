{
 "cells": [
  {
   "cell_type": "markdown",
   "metadata": {},
   "source": [
    "This notebook aims estimating the structure factor and the pair correlation function of the Pushed Poisson point process"
   ]
  },
  {
   "cell_type": "code",
   "execution_count": null,
   "metadata": {},
   "outputs": [],
   "source": [
    "import matplotlib as mpl\n",
    "import matplotlib.pyplot as plt\n",
    "\n",
    "# make plots look nice\n",
    "plt.ticklabel_format(style='sci', axis='x', scilimits=(0,0))\n",
    "mpl.rcParams['xtick.labelsize'] = 10\n",
    "mpl.rcParams['ytick.labelsize'] = 12\n",
    "plt.rc('axes', labelsize=22)\n",
    "plt.rc('legend', fontsize=12)\n",
    "mpl.rcParams['ps.useafm'] = True\n",
    "mpl.rcParams['pdf.use14corefonts'] = True\n",
    "mpl.rcParams['text.usetex'] = True\n",
    "\n",
    "# to delete this cell\n",
    "from IPython.display import display, HTML\n",
    "display(HTML(\"<style>.container { width:100% !important; }</style>\"))\n",
    "\n",
    "%load_ext autoreload\n",
    "%autoreload 2\n",
    "\n",
    "%config InlineBackend.figure_format='retina'\n",
    "import os\n",
    "import sys\n",
    "sys.path.insert(0, os.path.abspath('../src/'))"
   ]
  },
  {
   "cell_type": "code",
   "execution_count": null,
   "metadata": {},
   "outputs": [],
   "source": [
    "from mcrppy.spatial_windows import BoxWindow, BallWindow\n",
    "from mcrppy.point_pattern import PointPattern\n",
    "from structure_factor.spatial_windows import BallWindow as BallWindow_sf\n",
    "from structure_factor.spatial_windows import BoxWindow as BoxWindow_sf\n",
    "from structure_factor.point_pattern import PointPattern as PointPattern_sf\n",
    "\n",
    "def transform_to_structure_factor_object(point_pattern):\n",
    "    if isinstance(point_pattern.window, BallWindow):\n",
    "        window = BallWindow_sf(center=point_pattern.window.center,\n",
    "                    radius=point_pattern.window.radius)\n",
    "    else:\n",
    "        print( type(point_pattern.window))\n",
    "        window = BoxWindow_sf(bounds=point_pattern.window.bounds)\n",
    "    sf_object= PointPattern_sf(\n",
    "        points=point_pattern.points, \n",
    "        window=window,\n",
    "        intensity=point_pattern.intensity)\n",
    "    return sf_object"
   ]
  },
  {
   "cell_type": "code",
   "execution_count": null,
   "metadata": {},
   "outputs": [],
   "source": [
    "from mcrppy.point_processes import HomogeneousPoissonPointProcess\n",
    "import math\n",
    "import numpy as np"
   ]
  },
  {
   "cell_type": "markdown",
   "metadata": {},
   "source": [
    "# 1- d=2"
   ]
  },
  {
   "cell_type": "code",
   "execution_count": null,
   "metadata": {},
   "outputs": [],
   "source": [
    "intensity = 1/math.pi\n",
    "poisson = HomogeneousPoissonPointProcess(intensity)\n",
    "\n",
    "d=2\n",
    "r=150\n",
    "window = BallWindow(center=[0]*d, radius=r)\n",
    "_, repelled_pp = poisson.generate_repelled_point_pattern(window, seed=1, nb_cores=4)\n",
    "print(\"Nb points =\", repelled_pp.points.shape[0])"
   ]
  },
  {
   "cell_type": "code",
   "execution_count": null,
   "metadata": {},
   "outputs": [],
   "source": [
    "repelled_pp_sf_ball = transform_to_structure_factor_object(repelled_pp)\n",
    "l = 2*r/math.sqrt(d)\n",
    "window_2 = BoxWindow_sf(bounds=[[-l/2,l/2]]*d)\n",
    "repelled_pp_sf_box = repelled_pp_sf_ball.restrict_to_window(window_2)\n",
    "# fig, ax = plt.subplots(1,2, figsize=(6,3))\n",
    "# repelled_pp_sf_ball.plot(axis=ax[0])\n",
    "# repelled_pp_sf_box.plot(axis=ax[1])\n",
    "# plt.show()"
   ]
  },
  {
   "attachments": {},
   "cell_type": "markdown",
   "metadata": {},
   "source": [
    "## 1.1 Structure Factor"
   ]
  },
  {
   "cell_type": "code",
   "execution_count": null,
   "metadata": {},
   "outputs": [],
   "source": [
    "from structure_factor.structure_factor import StructureFactor\n",
    "sf_isotropic = StructureFactor(repelled_pp_sf_ball)\n",
    "sf = StructureFactor(repelled_pp_sf_box)"
   ]
  },
  {
   "cell_type": "code",
   "execution_count": null,
   "metadata": {},
   "outputs": [],
   "source": [
    "# scattering intensity\n",
    "k, si = sf.scattering_intensity(k_max=8, meshgrid_shape=(150,150))"
   ]
  },
  {
   "cell_type": "code",
   "execution_count": null,
   "metadata": {},
   "outputs": [],
   "source": [
    "fig, ax = plt.subplots(figsize=(5,4))\n",
    "sf.plot_non_isotropic_estimator(\n",
    "    k,\n",
    "    si,\n",
    "    axes=ax,\n",
    "    plot_type=\"radial\",\n",
    "    error_bar=True,\n",
    "    bins=80,\n",
    "    scale=\"log\",\n",
    "    label=r\"$\\widehat{S}_{\\mathrm{SI}}(\\mathbf{k})$\",\n",
    "    file_name=\"sf_si_repelled_poisson.pdf\"\n",
    ")\n",
    "\n",
    "plt.tight_layout(pad=1)"
   ]
  },
  {
   "cell_type": "code",
   "execution_count": null,
   "metadata": {},
   "outputs": [],
   "source": [
    "# Bartlett's isotropic estimator on allowed wavenumbers\n",
    "# Running time = 156 s\n",
    "import time\n",
    "\n",
    "start_time = time.time()\n",
    "k_norm, s_bi = sf_isotropic.bartlett_isotropic_estimator(nb_values=250)\n",
    "print(\"--- %s seconds ---\" % (time.time() - start_time))\n"
   ]
  },
  {
   "cell_type": "code",
   "execution_count": null,
   "metadata": {},
   "outputs": [],
   "source": [
    "#Plot\n",
    "fig, axis = plt.subplots(figsize=(4,3))\n",
    "sf_isotropic.plot_isotropic_estimator(k_norm, s_bi, \n",
    "                                      axis=axis,\n",
    "                                    label=r\"$\\widehat{S}_{\\mathrm{BI}}(k)$\")"
   ]
  },
  {
   "attachments": {},
   "cell_type": "markdown",
   "metadata": {},
   "source": [
    "## 1.2 Pair correlation function"
   ]
  },
  {
   "cell_type": "code",
   "execution_count": null,
   "metadata": {},
   "outputs": [],
   "source": [
    "# pcf.fv\n",
    "import structure_factor.pair_correlation_function as pcf\n",
    "from mcrppy.repelled_point_process import epsilon_critical\n",
    "\n",
    "r_max=3\n",
    "pcf_fv_2d = pcf.estimate(repelled_pp_sf_ball, \n",
    "                         method=\"fv\", \n",
    "                         Kest=dict(rmax=r_max), \n",
    "                         fv=dict(method=\"b\", spar=0.2)\n",
    "                        )"
   ]
  },
  {
   "cell_type": "code",
   "execution_count": null,
   "metadata": {},
   "outputs": [],
   "source": [
    "epsilon = epsilon_critical(d, intensity)\n",
    "# Plot\n",
    "pcf_fv_values = pcf_fv_2d[\"pcf\"]\n",
    "r_values = pcf_fv_2d[\"r\"]\n",
    "fig, axis = plt.subplots(figsize=(5,4))\n",
    "axis.plot(r_values, pcf_fv_values, c=\"grey\", marker=\".\", label=\"fv\", markersize=4)\n",
    "axis.vlines(epsilon, ymin=np.nanmin(pcf_fv_values), ymax=np.nanmax(pcf_fv_values), \n",
    "             colors=\"g\", linestyles='dashed', label=r\"$\\varepsilon_0$\")\n",
    "axis.hlines(1,xmax=max(r_values), xmin=min(r_values), colors=\"k\", linestyles='dashed', label=\"Poisson\")\n",
    "axis.legend()\n",
    "plt.tight_layout()\n",
    "plt.show()"
   ]
  },
  {
   "cell_type": "code",
   "execution_count": null,
   "metadata": {},
   "outputs": [],
   "source": [
    "# pcf.ppp\n",
    "r= np.linspace(0, r_max, 100)\n",
    "pcf_ppp_2d = pcf.estimate(repelled_pp_sf_ball, \n",
    "                         method=\"ppp\", \n",
    "                         r=r)"
   ]
  },
  {
   "cell_type": "code",
   "execution_count": null,
   "metadata": {},
   "outputs": [],
   "source": [
    "epsilon = epsilon_critical(d, intensity)\n",
    "# Plot\n",
    "pcf_ppp_trans = pcf_ppp_2d[\"trans\"]\n",
    "pcf_ppp_iso = pcf_ppp_2d[\"iso\"]\n",
    "r_values_2 = pcf_ppp_2d[\"r\"]\n",
    "fig, axis = plt.subplots(figsize=(5,4))\n",
    "\n",
    "axis.plot(r_values_2, pcf_ppp_trans, c=\"b\", marker=\"*\", label=\"ppp\", markersize=4)\n",
    "axis.vlines(epsilon, ymin=np.nanmin(pcf_ppp_trans), \n",
    "            ymax=np.nanmax(pcf_ppp_trans), \n",
    "             colors=\"g\", linestyles='dashed', label=r\"$\\varepsilon_0$\")\n",
    "axis.hlines(1,xmax=max(r_values_2), xmin=min(r_values_2), colors=\"k\", linestyles='dashed', label=\"Poisson\")\n",
    "axis.legend()\n",
    "plt.tight_layout()\n",
    "plt.show()"
   ]
  },
  {
   "cell_type": "code",
   "execution_count": null,
   "metadata": {},
   "outputs": [],
   "source": [
    "plt.rc('axes', labelsize=12)\n",
    "\n",
    "epsilon = epsilon_critical(d, intensity)\n",
    "fig, ax = plt.subplots(1, 2, figsize=(9,3))\n",
    "\n",
    "# sf.plot_non_isotropic_estimator(k, si, axes=ax[0],\n",
    "#     plot_type=\"radial\", error_bar=True, bins=80, scale=\"log\",\n",
    "#     label=r\"$\\widehat{S}_{\\mathrm{SI}}(\\mathbf{k})$\"\n",
    "# )\n",
    "# ax[0].set_xlabel(r\"$\\|\\mathbf{k}\\|_2$\")\n",
    "# ax[0].set_ylabel(r\"$S(\\mathbf{k})$\")\n",
    "\n",
    "ax[0].scatter(k_norm, s_bi, color=\"grey\", s=4, label=r\"$\\widehat{S}_{\\mathrm{BI}}(k)$\")\n",
    "ax[0].hlines(1, xmax=max(k_norm), xmin=min(k_norm), colors=\"k\", linestyles='dashed', label=\"Poisson\")\n",
    "ax[0].legend()\n",
    "ax[0].set_xlabel(r\"$k$\")\n",
    "ax[0].set_ylabel(r\"$S(k)$\")\n",
    "\n",
    "ax[1].plot(r_values_2, pcf_ppp_trans, c=\"b\", marker=\"*\", label=\"ppp\", markersize=4)\n",
    "ax[1].plot(r_values, pcf_fv_values, c=\"grey\", marker=\".\", label=\"fv\", markersize=4)\n",
    "ax[1].hlines(1, xmax=max(r_values), xmin=min(r_values), colors=\"k\", linestyles='dashed', label=\"Poisson\")\n",
    "ax[1].set_xlabel(r\"$r$\")\n",
    "ax[1].set_ylabel(r\"$g(r)$\")\n",
    "ax[1].legend()\n",
    "plt.tight_layout()\n",
    "plt.savefig(\"pcf_and_sf_2D.pdf\")\n",
    "plt.show()\n"
   ]
  }
 ],
 "metadata": {
  "kernelspec": {
   "display_name": "gppy-NPWlgsrS-py3.9",
   "language": "python",
   "name": "python3"
  },
  "language_info": {
   "codemirror_mode": {
    "name": "ipython",
    "version": 3
   },
   "file_extension": ".py",
   "mimetype": "text/x-python",
   "name": "python",
   "nbconvert_exporter": "python",
   "pygments_lexer": "ipython3",
   "version": "3.9.2"
  },
  "orig_nbformat": 4
 },
 "nbformat": 4,
 "nbformat_minor": 2
}
