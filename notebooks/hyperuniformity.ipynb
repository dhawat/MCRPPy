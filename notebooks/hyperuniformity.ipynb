{
 "cells": [
  {
   "cell_type": "markdown",
   "id": "ad0c6957",
   "metadata": {},
   "source": [
    "This notebook showcase the structure factor of push and gravity equilibrium point process and their pair correlations function"
   ]
  },
  {
   "cell_type": "code",
   "execution_count": null,
   "id": "4cde9e3b",
   "metadata": {},
   "outputs": [],
   "source": [
    "import matplotlib as mpl\n",
    "import matplotlib.pyplot as plt\n",
    "import time\n",
    "\n",
    "# make plots look nice\n",
    "plt.ticklabel_format(style='sci', axis='x', scilimits=(0,0))\n",
    "mpl.rcParams['xtick.labelsize'] = 24\n",
    "mpl.rcParams['ytick.labelsize'] = 24\n",
    "plt.rc('axes', labelsize=22)\n",
    "plt.rc('legend', fontsize=16)\n",
    "mpl.rcParams['ps.useafm'] = True\n",
    "mpl.rcParams['pdf.use14corefonts'] = True\n",
    "mpl.rcParams['text.usetex'] = True"
   ]
  },
  {
   "cell_type": "code",
   "execution_count": null,
   "id": "a7439cad",
   "metadata": {},
   "outputs": [],
   "source": [
    "# to delete this cell\n",
    "from IPython.core.display import display, HTML\n",
    "display(HTML(\"<style>.container { width:100% !important; }</style>\"))\n",
    "\n",
    "%load_ext autoreload\n",
    "%autoreload 2\n",
    "\n",
    "%config InlineBackend.figure_format='retina'\n",
    "import os\n",
    "import sys\n",
    "sys.path.insert(0, os.path.abspath('../src/'))"
   ]
  },
  {
   "cell_type": "code",
   "execution_count": null,
   "id": "b5ae80ba",
   "metadata": {},
   "outputs": [],
   "source": [
    "from structure_factor.point_pattern import PointPattern"
   ]
  },
  {
   "cell_type": "markdown",
   "id": "6f467bd4",
   "metadata": {},
   "source": [
    "# d=2"
   ]
  },
  {
   "cell_type": "code",
   "execution_count": null,
   "id": "993964fa",
   "metadata": {},
   "outputs": [],
   "source": [
    "# Creat a poisson point process\n",
    "import matplotlib.pyplot as plt\n",
    "import numpy as np\n",
    "\n",
    "from structure_factor.point_processes import HomogeneousPoissonPointProcess\n",
    "from structure_factor.spatial_windows import BallWindow\n",
    "\n",
    "intensity=1/np.pi\n",
    "point_process = HomogeneousPoissonPointProcess(intensity=intensity)\n",
    "radius=200\n",
    "d=2\n",
    "window = BallWindow(center=[0]*d, radius=radius)\n",
    "point_pattern = point_process.generate_point_pattern(window=window)\n",
    "poisson = point_pattern.points\n",
    "\n",
    "ax = point_pattern.plot()\n",
    "ax.set_aspect(\"equal\", \"box\")\n",
    "plt.tight_layout(pad=1)"
   ]
  },
  {
   "cell_type": "markdown",
   "id": "50f7ce79",
   "metadata": {},
   "source": [
    "Pushed Poisson point process with epsilon = volume_basin/100 and time = 9"
   ]
  },
  {
   "cell_type": "code",
   "execution_count": null,
   "id": "6138d067",
   "metadata": {
    "scrolled": false
   },
   "outputs": [],
   "source": [
    "from GPPY.gravity_point_process import GravityPointProcess\n",
    "gpp_process = GravityPointProcess(point_pattern)\n",
    "\n",
    "volume_basin = gpp_process.allocation_basin_volume\n",
    "epsilon = volume_basin**(1/d)/100\n",
    "start_time = time.time()\n",
    "if __name__ == \"__main__\":\n",
    "    hpp_pattern = gpp_process.pushed_point_pattern(epsilon=volume_basin/100, stop_time=9)\n",
    "print(\"--- %s seconds ---\" % (time.time() - start_time))\n",
    "hpp_pattern.plot(window= BallWindow(center=[0,0], radius=40))"
   ]
  },
  {
   "cell_type": "code",
   "execution_count": null,
   "id": "fbabaa32",
   "metadata": {},
   "outputs": [],
   "source": [
    "gpp_process = GravityPointProcess(point_pattern)\n",
    "point_pattern.plot()\n",
    "for t in range(1,30):\n",
    "    hpp_pattern_t = gpp_process.pushed_point_pattern(epsilon=epsilon, stop_time=t)\n",
    "    print(t)\n",
    "    hpp_pattern_t.plot()\n",
    "    plt.show()\n",
    "    "
   ]
  },
  {
   "cell_type": "code",
   "execution_count": null,
   "id": "7fac9177",
   "metadata": {},
   "outputs": [],
   "source": [
    "fig, axis = plt.subplots(1, 3, figsize=(26, 8))\n",
    "axis[0].scatter(hpp_process[:,0],  hpp_process[:,1], c=\"b\", s=1)\n",
    "axis[0].scatter(poisson[:,0],  poisson[:,1], c=\"k\", s=1)\n",
    "axis[1].scatter(poisson[:,0],  poisson[:,1], c=\"k\", s=1)\n",
    "axis[2].scatter(hpp_process[:,0],  hpp_process[:,1], c=\"b\", s=1)\n",
    "axis[0].title.set_text(\"Poisson and Pushed\")\n",
    "axis[1].title.set_text(\"Poisson\")\n",
    "axis[2].title.set_text(\"Pushed\")\n",
    "plt.show()"
   ]
  },
  {
   "cell_type": "markdown",
   "id": "5dadb404",
   "metadata": {},
   "source": [
    "Gravity equilibrium Poisson point process with epsilon = volume_basin/40 and stop_time = 4"
   ]
  },
  {
   "cell_type": "code",
   "execution_count": null,
   "id": "84aaa8d1",
   "metadata": {},
   "outputs": [],
   "source": [
    "from GPPY.gravity_point_process import GravityPointProcess\n",
    "gpp_process = GravityPointProcess(point_pattern)\n",
    "\n",
    "volume_basin = gpp_process.allocation_basin_volume\n",
    "start_time = time.time()\n",
    "epp_pattern = gpp_process.equilibrium_point_pattern(epsilon=epsilon, stop_time=6)\n",
    "print(\"--- %s seconds ---\" % (time.time() - start_time))"
   ]
  },
  {
   "cell_type": "code",
   "execution_count": null,
   "id": "d1b91e15",
   "metadata": {},
   "outputs": [],
   "source": [
    "epp_pattern.plot(window= BallWindow(center=[0,0], radius=40))"
   ]
  },
  {
   "cell_type": "code",
   "execution_count": null,
   "id": "4c11fccd",
   "metadata": {},
   "outputs": [],
   "source": [
    "fig, axis = plt.subplots(1, 3, figsize=(26, 8))\n",
    "axis[0].scatter(epp_process[:,0],  epp_process[:,1], c=\"b\", s=1)\n",
    "axis[0].scatter(poisson[:,0],  poisson[:,1], c=\"k\", s=1)\n",
    "axis[1].scatter(poisson[:,0],  poisson[:,1], c=\"k\", s=1)\n",
    "axis[2].scatter(epp_process[:,0],  epp_process[:,1], c=\"b\", s=1)\n",
    "axis[0].title.set_text(\"Poisson and Equi\")\n",
    "axis[1].title.set_text(\"Poisson\")\n",
    "axis[2].title.set_text(\"Equi\")\n",
    "plt.show()"
   ]
  },
  {
   "cell_type": "code",
   "execution_count": null,
   "id": "a063160c",
   "metadata": {},
   "outputs": [],
   "source": []
  },
  {
   "cell_type": "markdown",
   "id": "b8ed4cce",
   "metadata": {},
   "source": [
    "# Hyperuniformity"
   ]
  },
  {
   "cell_type": "code",
   "execution_count": null,
   "id": "21099c4a",
   "metadata": {},
   "outputs": [],
   "source": [
    "# restrict the pattern to a cubic window\n",
    "from structure_factor.spatial_windows import BoxWindow\n",
    "L = (point_pattern.window.radius-2)/np.sqrt(2) # side length of the cubic window\n",
    "print(\"Restricting the window to a cube of length\", L)\n",
    "bounds = [[-L/2, L/2], [-L/2, L/2]] \n",
    "window = BoxWindow(bounds) # create a cubic window\n",
    "hpp_pattern_box = hpp_pattern.restrict_to_window(window) \n",
    "hpp_pattern_box.plot()\n",
    "\n",
    "epp_pattern_box = epp_pattern.restrict_to_window(window) \n",
    "epp_pattern_box.plot()"
   ]
  },
  {
   "cell_type": "code",
   "execution_count": null,
   "id": "48631984",
   "metadata": {},
   "outputs": [],
   "source": [
    "from structure_factor.structure_factor import StructureFactor\n",
    "sf_hpp_pattern = StructureFactor(hpp_pattern_box) \n",
    "sf_epp_pattern = StructureFactor(epp_pattern_box)"
   ]
  },
  {
   "cell_type": "code",
   "execution_count": null,
   "id": "321765c5",
   "metadata": {},
   "outputs": [],
   "source": [
    "k_hpp, s_si_hpp = sf_hpp_pattern.scattering_intensity(k_max=8, \n",
    "                                            meshgrid_shape=(150, 150),\n",
    "                                            )\n",
    "k_epp, s_si_epp = sf_epp_pattern.scattering_intensity(k_max=18, \n",
    "                                            meshgrid_shape=(150, 150),\n",
    "                                            )"
   ]
  },
  {
   "cell_type": "code",
   "execution_count": null,
   "id": "83180224",
   "metadata": {},
   "outputs": [],
   "source": [
    "fig = sf_hpp_pattern.plot_non_isotropic_estimator(k_hpp, s_si_hpp, plot_type=\"all\",\n",
    "                                              bins=100, error_bar=True,\n",
    "                                              )\n",
    "fig = sf_epp_pattern.plot_non_isotropic_estimator(k_epp, s_si_epp, plot_type=\"all\",\n",
    "                                              bins=40, error_bar=True,\n",
    "                                              )"
   ]
  },
  {
   "cell_type": "code",
   "execution_count": null,
   "id": "8fb4edcd",
   "metadata": {},
   "outputs": [],
   "source": [
    "# Directly debiased multitapered estimator\n",
    "from structure_factor.tapers import SineTaper\n",
    " \n",
    "# Wavevectors\n",
    "k_max = 14 # Threshold on the maximum wavenumber\n",
    "x = np.linspace(-k_max, k_max, 17**2)\n",
    "x = x[x != 0]\n",
    "X, Y = np.meshgrid(x, x)\n",
    "k = np.column_stack((X.ravel(), Y.ravel()))\n",
    "\n",
    "# First 4 tapers of the family of sinusoidal tapers\n",
    "from structure_factor.tapers import multi_sinetaper_grid\n",
    "tapers = multi_sinetaper_grid(d=2, p_component_max=2)\n",
    "\n",
    "# Scaled multitapered periodogram\n",
    "start_time = time.time()\n",
    "k_hpp, s_ddmt_hpp = sf_hpp_pattern.tapered_estimator(k, tapers=tapers, debiased=True, direct=True)\n",
    "k_epp, s_ddmt_epp = sf_epp_pattern.tapered_estimator(k, tapers=tapers, debiased=True, direct=True)\n",
    "print(\"--- %s seconds ---\" % (time.time() - start_time))\n"
   ]
  },
  {
   "cell_type": "code",
   "execution_count": null,
   "id": "83c8f743",
   "metadata": {},
   "outputs": [],
   "source": [
    "from structure_factor.point_processes import GinibrePointProcess\n",
    "ginibre = GinibrePointProcess"
   ]
  },
  {
   "cell_type": "code",
   "execution_count": null,
   "id": "b2189045",
   "metadata": {},
   "outputs": [],
   "source": [
    "# Plot\n",
    "sf_hpp_pattern.plot_non_isotropic_estimator(k_hpp, s_ddmt_hpp, plot_type=\"all\", \n",
    "                                error_bar=True, bins=70, \n",
    "                                scale=\"log\", rasterized=True,\n",
    "                                exact_sf=ginibre.structure_factor,\n",
    "                                label=r\"$\\widehat{S}$\")\n",
    "# Plot\n",
    "sf_epp_pattern.plot_non_isotropic_estimator(k_epp, s_ddmt_epp, plot_type=\"all\", \n",
    "                                error_bar=True, bins=70, \n",
    "                                scale=\"log\", rasterized=True,\n",
    "                                exact_sf=ginibre.structure_factor,\n",
    "                                label=r\"$\\widehat{S}$\")"
   ]
  },
  {
   "cell_type": "code",
   "execution_count": null,
   "id": "aee61cc7",
   "metadata": {},
   "outputs": [],
   "source": [
    "from structure_factor.structure_factor import StructureFactor\n",
    "sf_hpp_pattern_radial = StructureFactor(hpp_pattern) \n",
    "sf_epp_pattern_radial = StructureFactor(epp_pattern)"
   ]
  },
  {
   "cell_type": "code",
   "execution_count": null,
   "id": "381b0c53",
   "metadata": {},
   "outputs": [],
   "source": [
    "from structure_factor.point_processes import GinibrePointProcess\n",
    "ginibre = GinibrePointProcess"
   ]
  },
  {
   "cell_type": "code",
   "execution_count": null,
   "id": "8892a58f",
   "metadata": {},
   "outputs": [],
   "source": [
    "# pcf.fv\n",
    "import structure_factor.pair_correlation_function as pcf\n",
    "\n",
    "pcf_fv_hpp = pcf.estimate(hpp_pattern, # PointPattern \n",
    "                      method=\"fv\", # Estimation method (could be \"ppp\" or \"fv\")\n",
    "                      Kest=dict(rmax=20), # Maximal estimation radius \n",
    "                      fv=dict(method=\"b\", spar=0.2) # Correction method and sparsity\n",
    "                             )\n",
    "\n",
    "pcf_fv_epp = pcf.estimate(epp_pattern, # PointPattern \n",
    "                      method=\"fv\", # Estimation method (could be \"ppp\" or \"fv\")\n",
    "                      Kest=dict(rmax=20), # Maximal estimation radius \n",
    "                      fv=dict(method=\"b\", spar=0.2) # Correction method and sparsity\n",
    "                             )"
   ]
  },
  {
   "cell_type": "code",
   "execution_count": null,
   "id": "8774b2e8",
   "metadata": {},
   "outputs": [],
   "source": [
    "# Plot\n",
    "pcf.plot(pcf_fv_hpp, \n",
    "         #exact_pcf=ginibre.pair_correlation_function,\n",
    "         figsize=(7,6), \n",
    "         color=['grey'], \n",
    "         style=[\".\"]\n",
    "        )\n",
    "# Plot\n",
    "pcf.plot(pcf_fv_epp, \n",
    "         #exact_pcf=ginibre.pair_correlation_function,\n",
    "         figsize=(7,6), \n",
    "         color=['grey'], \n",
    "         style=[\".\"]\n",
    "        )"
   ]
  },
  {
   "cell_type": "code",
   "execution_count": null,
   "id": "ad2cc48c",
   "metadata": {},
   "outputs": [],
   "source": [
    "z = np.zeros((1, 2))\n",
    "index = points != z\n",
    "index"
   ]
  },
  {
   "cell_type": "code",
   "execution_count": null,
   "id": "71dc663c",
   "metadata": {},
   "outputs": [],
   "source": [
    "from gravitypointprocess import gravity_point_process"
   ]
  },
  {
   "cell_type": "code",
   "execution_count": null,
   "id": "2c1957ff",
   "metadata": {},
   "outputs": [],
   "source": [
    "import numpy as np\n",
    "distances = np.linalg.norm(points, axis=1)\n",
    "distances"
   ]
  },
  {
   "cell_type": "code",
   "execution_count": null,
   "id": "6c9b28f8",
   "metadata": {},
   "outputs": [],
   "source": [
    "np.atleast_2d(distances).T"
   ]
  },
  {
   "cell_type": "code",
   "execution_count": null,
   "id": "97a5ed68",
   "metadata": {},
   "outputs": [],
   "source": [
    "points"
   ]
  },
  {
   "cell_type": "code",
   "execution_count": null,
   "id": "161ceb6a",
   "metadata": {},
   "outputs": [],
   "source": [
    "-1.29286787/1.60122821"
   ]
  },
  {
   "cell_type": "code",
   "execution_count": null,
   "id": "2519ff11",
   "metadata": {},
   "outputs": [],
   "source": [
    "tt = np.divide(points, np.atleast_2d(distances).T)\n",
    "tt"
   ]
  },
  {
   "cell_type": "code",
   "execution_count": null,
   "id": "87120c95",
   "metadata": {},
   "outputs": [],
   "source": [
    "points.shape[1]"
   ]
  },
  {
   "cell_type": "code",
   "execution_count": null,
   "id": "061e8a00",
   "metadata": {},
   "outputs": [],
   "source": [
    "from structure_factor.spatial_windows import UnitBallWindow\n",
    "center = np.full(shape=(2), fill_value=0)\n",
    "UnitBallWindow(center=center).volume"
   ]
  },
  {
   "cell_type": "code",
   "execution_count": null,
   "id": "766b3200",
   "metadata": {},
   "outputs": [],
   "source": [
    "import numpy as np\n",
    "a = np.full((7,3), fill_value=1)\n",
    "a[1] = a[1] + 2\n",
    "a"
   ]
  },
  {
   "cell_type": "code",
   "execution_count": null,
   "id": "12755891",
   "metadata": {},
   "outputs": [],
   "source": [
    "list(range(8))"
   ]
  },
  {
   "cell_type": "code",
   "execution_count": null,
   "id": "1ad41de7",
   "metadata": {},
   "outputs": [],
   "source": [
    "1/2 + 1/12 "
   ]
  },
  {
   "cell_type": "code",
   "execution_count": null,
   "id": "23efe7e1",
   "metadata": {},
   "outputs": [],
   "source": [
    "7/12"
   ]
  },
  {
   "cell_type": "code",
   "execution_count": null,
   "id": "1e3ed3d4",
   "metadata": {},
   "outputs": [],
   "source": [
    "index[:,1]"
   ]
  },
  {
   "cell_type": "code",
   "execution_count": null,
   "id": "9c377795",
   "metadata": {},
   "outputs": [],
   "source": [
    "a[index[:,1]]"
   ]
  },
  {
   "cell_type": "code",
   "execution_count": null,
   "id": "1642c0b3",
   "metadata": {},
   "outputs": [],
   "source": [
    "ss = np.linalg.norm(points, axis=1)\n",
    "ss"
   ]
  },
  {
   "cell_type": "code",
   "execution_count": null,
   "id": "48d97026",
   "metadata": {},
   "outputs": [],
   "source": [
    "mm =  points != x\n",
    "points[mm[:,1]]"
   ]
  },
  {
   "cell_type": "code",
   "execution_count": null,
   "id": "bc1c7a4f",
   "metadata": {},
   "outputs": [],
   "source": [
    "points[1:10]"
   ]
  },
  {
   "cell_type": "code",
   "execution_count": null,
   "id": "4653a0b1",
   "metadata": {},
   "outputs": [],
   "source": [
    "xx"
   ]
  },
  {
   "cell_type": "code",
   "execution_count": null,
   "id": "4f784077",
   "metadata": {},
   "outputs": [],
   "source": []
  }
 ],
 "metadata": {
  "kernelspec": {
   "display_name": "Python 3 (ipykernel)",
   "language": "python",
   "name": "python3"
  },
  "language_info": {
   "codemirror_mode": {
    "name": "ipython",
    "version": 3
   },
   "file_extension": ".py",
   "mimetype": "text/x-python",
   "name": "python",
   "nbconvert_exporter": "python",
   "pygments_lexer": "ipython3",
   "version": "3.9.2"
  }
 },
 "nbformat": 4,
 "nbformat_minor": 5
}
