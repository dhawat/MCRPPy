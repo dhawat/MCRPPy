{
 "cells": [
  {
   "cell_type": "code",
   "execution_count": null,
   "metadata": {},
   "outputs": [],
   "source": [
    "# ! delete the following\n",
    "from IPython.display import display, HTML\n",
    "display(HTML(\"<style>.container { width:100% !important; }</style>\"))\n",
    "\n",
    "%load_ext autoreload\n",
    "%autoreload 2\n",
    "\n",
    "%config InlineBackend.figure_format='retina'\n",
    "import os\n",
    "import sys\n",
    "sys.path.insert(0, os.path.abspath('../src/'))"
   ]
  },
  {
   "cell_type": "code",
   "execution_count": null,
   "metadata": {},
   "outputs": [],
   "source": [
    "import matplotlib.pyplot as plt\n",
    "from mcrppy.spatial_windows import BoxWindow, BallWindow"
   ]
  },
  {
   "cell_type": "markdown",
   "metadata": {},
   "source": [
    "# 1- Repelled Poisson point process"
   ]
  },
  {
   "cell_type": "code",
   "execution_count": null,
   "metadata": {},
   "outputs": [],
   "source": [
    "from mcrppy.point_processes import HomogeneousPoissonPointProcess\n",
    "\n",
    "intensity = 1\n",
    "poisson = HomogeneousPoissonPointProcess(intensity)\n",
    "\n",
    "window = BoxWindow([[-20,20], [-20,20]])\n",
    "poisson_pp, repelled_poison_pp = poisson.generate_repelled_point_pattern(window, seed=1, nb_cores=4)"
   ]
  },
  {
   "cell_type": "code",
   "execution_count": null,
   "metadata": {},
   "outputs": [],
   "source": [
    "print(\"nb_points poisson \", poisson_pp.points.shape[0], \n",
    "      \" nb_points repelled=\", repelled_poison_pp.points.shape[0])"
   ]
  },
  {
   "cell_type": "code",
   "execution_count": null,
   "metadata": {},
   "outputs": [],
   "source": [
    "fig, ax = plt.subplots(1, 2, figsize=(8, 4))\n",
    "poisson_pp.plot(axis=ax[0], s=0.1)\n",
    "repelled_poison_pp.plot(axis=ax[1], s=0.1)\n",
    "window.plot(axis=ax[0], color=\"b\")\n",
    "window.plot(axis=ax[1], color=\"b\")\n",
    "ax[0].set_title(\"poisson\")\n",
    "ax[1].set_title(\"repelled poisson\")\n",
    "plt.show()"
   ]
  },
  {
   "cell_type": "code",
   "execution_count": null,
   "metadata": {},
   "outputs": [],
   "source": [
    "#option output=simulation show all simulated points \n",
    "#not restricted to the simulation window\n",
    "window = BallWindow(center=[0,0], radius=30)\n",
    "poisson_pp_, repelled_poison_pp_ = poisson.generate_repelled_point_pattern(window, seed=1, output=\"simulation\", nb_cores=4)\n",
    "print(\"nb_points poisson \", poisson_pp.points.shape[0], \n",
    "      \" nb_points repelled=\", repelled_poison_pp.points.shape[0])\n",
    "fig, ax = plt.subplots(1, 2, figsize=(8, 4))\n",
    "poisson_pp_.plot(axis=ax[0], s=0.1)\n",
    "ax[0].set_title(\"poisson\")\n",
    "repelled_poison_pp_.plot(axis=ax[1], s=0.1)\n",
    "ax[1].set_title(\"repelled poisson\")\n",
    "window.plot(axis=ax[0], color=\"b\")\n",
    "window.plot(axis=ax[1], color=\"b\")\n",
    "plt.show()"
   ]
  },
  {
   "cell_type": "markdown",
   "metadata": {},
   "source": [
    "# 2- Repelled Binomial point process"
   ]
  },
  {
   "cell_type": "code",
   "execution_count": null,
   "metadata": {},
   "outputs": [],
   "source": [
    "from mcrppy.point_processes import BinomialPointProcess\n",
    "\n",
    "binomial = BinomialPointProcess()\n",
    "\n",
    "window = BallWindow(center=[0,0], radius=50)\n",
    "nb_points = 1000\n",
    "binomial_pp, repelled_binomial_pp = binomial.generate_repelled_point_pattern(nb_points, window, seed=1, nb_cores=4)\n",
    "print(\"nb_points binomial \", binomial_pp.points.shape[0], \n",
    "      \" nb_points repelled=\", repelled_binomial_pp.points.shape[0])"
   ]
  },
  {
   "cell_type": "code",
   "execution_count": null,
   "metadata": {},
   "outputs": [],
   "source": [
    "fig, ax = plt.subplots(1, 2, figsize=(8, 4))\n",
    "binomial_pp.plot(axis=ax[0], s=0.1)\n",
    "repelled_binomial_pp.plot(axis=ax[1], s=0.1)\n",
    "ax[0].set_title(\"binomial\")\n",
    "ax[1].set_title(\"repelled binomial\")\n",
    "window.plot(axis=ax[0], color=\"b\")\n",
    "window.plot(axis=ax[1], color=\"b\")\n",
    "plt.show()"
   ]
  },
  {
   "cell_type": "markdown",
   "metadata": {},
   "source": [
    "# 3- Repelled Ginibre point process"
   ]
  },
  {
   "cell_type": "code",
   "execution_count": null,
   "metadata": {},
   "outputs": [],
   "source": [
    "from mcrppy.point_processes import GinibrePointProcess\n",
    "\n",
    "ginibre = GinibrePointProcess()\n",
    "\n",
    "\n",
    "window = BallWindow(center=[0,0], radius=40)\n",
    "ginibre_pp, repelled_ginibre_pp = ginibre.generate_repelled_point_pattern(window=window, seed=1, nb_cores=4, output=\"simulation\")\n",
    "print(\"nb_points ginibre \", ginibre_pp.points.shape[0], \n",
    "      \" nb_points repelled=\", repelled_ginibre_pp.points.shape[0])"
   ]
  },
  {
   "cell_type": "code",
   "execution_count": null,
   "metadata": {},
   "outputs": [],
   "source": [
    "fig, ax = plt.subplots(1, 2, figsize=(8, 4))\n",
    "ginibre_pp.plot(axis=ax[0], s=0.1)\n",
    "repelled_ginibre_pp.plot(axis=ax[1], s=0.1)\n",
    "window.plot(axis=ax[0], color=\"b\")\n",
    "window.plot(axis=ax[1], color=\"b\")\n",
    "ax[0].set_title(\"ginibre\")\n",
    "ax[1].set_title(\"repelled ginibre\")\n",
    "plt.show()"
   ]
  },
  {
   "cell_type": "markdown",
   "metadata": {},
   "source": [
    "# 4- Scramble Sobol point process"
   ]
  },
  {
   "cell_type": "code",
   "execution_count": null,
   "metadata": {},
   "outputs": [],
   "source": [
    "from mcrppy.point_processes import ScrambleSobolPointProcess\n",
    "\n",
    "sobol = ScrambleSobolPointProcess()\n",
    "\n",
    "nb_points=1000\n",
    "window = BallWindow(center=[0,0], radius=50)\n",
    "sobol_pp, repelled_sobol_pp = sobol.generate_repelled_point_pattern(window=window, nb_points=nb_points, seed=1, nb_cores=4, output=\"simulation\")\n",
    "print(\"nb_points sobol \", sobol_pp.points.shape[0], \n",
    "      \" nb_points repelled=\", repelled_sobol_pp.points.shape[0])"
   ]
  },
  {
   "cell_type": "code",
   "execution_count": null,
   "metadata": {},
   "outputs": [],
   "source": [
    "fig, ax = plt.subplots(1, 2, figsize=(8, 4))\n",
    "sobol_pp.plot(axis=ax[0], s=0.1)\n",
    "window.plot(axis=ax[0], color=\"b\")\n",
    "repelled_sobol_pp.plot(axis=ax[1], s=0.1)\n",
    "window.plot(axis=ax[1], color=\"b\")\n",
    "ax[0].set_title(\"sobol\")\n",
    "ax[1].set_title(\"repelled sobol\")\n",
    "plt.show()"
   ]
  },
  {
   "cell_type": "code",
   "execution_count": null,
   "metadata": {},
   "outputs": [],
   "source": [
    "from mcrppy.point_processes import ScrambleSobolPointProcess\n",
    "\n",
    "sobol = ScrambleSobolPointProcess()\n",
    "\n",
    "nb_points=2**(10)\n",
    "window = BoxWindow([[-20,20], [-20,20]])\n",
    "sobol_pp, repelled_sobol_pp = sobol.generate_repelled_point_pattern(window=window, nb_points=nb_points, seed=1, nb_cores=4, output=\"simulation\")\n",
    "print(\"nb_points sobol \", sobol_pp.points.shape[0], \n",
    "      \" nb_points repelled=\", repelled_sobol_pp.points.shape[0])\n",
    "\n",
    "fig, ax = plt.subplots(1, 2, figsize=(8, 4))\n",
    "sobol_pp.plot(axis=ax[0], s=0.1)\n",
    "window.plot(axis=ax[0], color=\"b\")\n",
    "repelled_sobol_pp.plot(axis=ax[1], s=0.1)\n",
    "window.plot(axis=ax[1], color=\"b\")\n",
    "ax[0].set_title(\"sobol\")\n",
    "ax[1].set_title(\"repelled sobol\")\n",
    "plt.show()"
   ]
  },
  {
   "cell_type": "code",
   "execution_count": null,
   "metadata": {},
   "outputs": [],
   "source": [
    "from mcrppy.point_processes import ScrambleSobolPointProcess\n",
    "\n",
    "sobol = ScrambleSobolPointProcess()\n",
    "\n",
    "nb_points=2**(10)\n",
    "window = BoxWindow([[-20,20], [-20,20]])\n",
    "sobol_pp, repelled_sobol_pp = sobol.generate_repelled_point_pattern(window=window, nb_points=nb_points, seed=1, nb_cores=4,)\n",
    "print(\"nb_points sobol \", sobol_pp.points.shape[0], \n",
    "      \" nb_points repelled=\", repelled_sobol_pp.points.shape[0])\n",
    "\n",
    "fig, ax = plt.subplots(1, 2, figsize=(8, 4))\n",
    "sobol_pp.plot(axis=ax[0], s=0.1)\n",
    "window.plot(axis=ax[0], color=\"b\")\n",
    "repelled_sobol_pp.plot(axis=ax[1], s=0.1)\n",
    "window.plot(axis=ax[1], color=\"b\")\n",
    "ax[0].set_title(\"sobol\")\n",
    "ax[1].set_title(\"repelled sobol\")\n",
    "plt.show()"
   ]
  },
  {
   "cell_type": "markdown",
   "metadata": {},
   "source": [
    "# 5- Repelled Thomas point process"
   ]
  },
  {
   "cell_type": "code",
   "execution_count": null,
   "metadata": {},
   "outputs": [],
   "source": [
    "from mcrppy.point_processes import ThomasPointProcess\n",
    "\n",
    "thomas = ThomasPointProcess(kappa=1/2, mu=1, sigma=2)\n",
    "\n",
    "window = BallWindow(center=[0,0], radius=50)\n",
    "thomas_pp, repelled_thomas_pp = thomas.generate_repelled_point_pattern(window=window, seed=1, nb_cores=4, output=\"simulation\")\n",
    "print(\"nb_points thomas \", thomas_pp.points.shape[0], \n",
    "      \" nb_points repelled=\", repelled_thomas_pp.points.shape[0])"
   ]
  },
  {
   "cell_type": "code",
   "execution_count": null,
   "metadata": {},
   "outputs": [],
   "source": [
    "fig, ax = plt.subplots(1, 2, figsize=(8, 4))\n",
    "thomas_pp.plot(axis=ax[0], s=0.1)\n",
    "window.plot(axis=ax[0], color=\"b\")\n",
    "repelled_thomas_pp.plot(axis=ax[1], s=0.1)\n",
    "window.plot(axis=ax[1], color=\"b\")\n",
    "ax[0].set_title(\"thomas\")\n",
    "ax[1].set_title(\"repelled thomas\")\n",
    "plt.show()"
   ]
  },
  {
   "cell_type": "code",
   "execution_count": null,
   "metadata": {},
   "outputs": [],
   "source": []
  }
 ],
 "metadata": {
  "kernelspec": {
   "display_name": "gppy-NPWlgsrS-py3.9",
   "language": "python",
   "name": "python3"
  },
  "language_info": {
   "codemirror_mode": {
    "name": "ipython",
    "version": 3
   },
   "file_extension": ".py",
   "mimetype": "text/x-python",
   "name": "python",
   "nbconvert_exporter": "python",
   "pygments_lexer": "ipython3",
   "version": "3.9.2"
  },
  "orig_nbformat": 4
 },
 "nbformat": 4,
 "nbformat_minor": 2
}
